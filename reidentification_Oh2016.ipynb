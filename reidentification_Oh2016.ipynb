{
  "cells": [
    {
      "cell_type": "code",
      "execution_count": 1,
      "metadata": {
        "colab": {
          "base_uri": "https://localhost:8080/"
        },
        "id": "tk51fxxEcxA1",
        "outputId": "0258be49-9457-41a4-ba77-ba9d801d3c9f"
      },
      "outputs": [
        {
          "name": "stdout",
          "output_type": "stream",
          "text": [
            "Requirement already satisfied: metric-learn in /Users/stefftaelman/miniconda3/envs/reidentification/lib/python3.9/site-packages (0.6.2)\n",
            "Requirement already satisfied: scipy in /Users/stefftaelman/miniconda3/envs/reidentification/lib/python3.9/site-packages (from metric-learn) (1.8.0)\n",
            "Requirement already satisfied: numpy in /Users/stefftaelman/miniconda3/envs/reidentification/lib/python3.9/site-packages (from metric-learn) (1.22.2)\n",
            "Requirement already satisfied: scikit-learn>=0.20.3 in /Users/stefftaelman/miniconda3/envs/reidentification/lib/python3.9/site-packages (from metric-learn) (1.0.2)\n",
            "Requirement already satisfied: threadpoolctl>=2.0.0 in /Users/stefftaelman/miniconda3/envs/reidentification/lib/python3.9/site-packages (from scikit-learn>=0.20.3->metric-learn) (3.1.0)\n",
            "Requirement already satisfied: joblib>=0.11 in /Users/stefftaelman/miniconda3/envs/reidentification/lib/python3.9/site-packages (from scikit-learn>=0.20.3->metric-learn) (1.1.0)\n"
          ]
        }
      ],
      "source": [
        "!pip install metric-learn"
      ]
    },
    {
      "cell_type": "code",
      "execution_count": 2,
      "metadata": {
        "id": "4C6xf4MlbhkQ"
      },
      "outputs": [],
      "source": [
        "import joblib\n",
        "import matplotlib.pyplot as plt\n",
        "from metric_learn import NCA, LMNN\n",
        "import numpy as np\n",
        "import pandas as pd\n",
        "import plotly.express as px\n",
        "import seaborn as sb\n",
        "from sklearn.metrics import accuracy_score, classification_report\n",
        "from sklearn.model_selection import train_test_split"
      ]
    },
    {
      "cell_type": "markdown",
      "metadata": {
        "id": "aTNAONbObhkU"
      },
      "source": [
        "# Load in the data"
      ]
    },
    {
      "cell_type": "code",
      "execution_count": 3,
      "metadata": {
        "id": "RcB2YKvNbhkW"
      },
      "outputs": [],
      "source": [
        "# define input files\n",
        "COMPOSITIONS_FILE = \"data/oh2016_species_relative_abundance.csv\"\n",
        "METADATA_FILE = \"data/oh2016_metadata.csv\""
      ]
    },
    {
      "cell_type": "markdown",
      "metadata": {
        "id": "5Vx8rIGJdY7k"
      },
      "source": [
        "First we'll load in the microbial compositions of each sample. These are the proportions that each species takes up of the entire sample."
      ]
    },
    {
      "cell_type": "code",
      "execution_count": 4,
      "metadata": {
        "colab": {
          "base_uri": "https://localhost:8080/",
          "height": 418
        },
        "id": "L9_E4Q0WbhkX",
        "outputId": "8d1e3162-0bda-4d9c-8ab5-abaa854563cc"
      },
      "outputs": [
        {
          "data": {
            "text/html": [
              "<div>\n",
              "<style scoped>\n",
              "    .dataframe tbody tr th:only-of-type {\n",
              "        vertical-align: middle;\n",
              "    }\n",
              "\n",
              "    .dataframe tbody tr th {\n",
              "        vertical-align: top;\n",
              "    }\n",
              "\n",
              "    .dataframe thead th {\n",
              "        text-align: right;\n",
              "    }\n",
              "</style>\n",
              "<table border=\"1\" class=\"dataframe\">\n",
              "  <thead>\n",
              "    <tr style=\"text-align: right;\">\n",
              "      <th>names</th>\n",
              "      <th>Aeropyrum_pernix</th>\n",
              "      <th>Desulfurococcus_kamchatkensis</th>\n",
              "      <th>Ignicoccus_hospitalis</th>\n",
              "      <th>Staphylothermus_marinus</th>\n",
              "      <th>Hyperthermus_butylicus</th>\n",
              "      <th>Metallosphaera_sedula</th>\n",
              "      <th>Sulfolobus_acidocaldarius</th>\n",
              "      <th>Sulfolobus_islandicus</th>\n",
              "      <th>Sulfolobus_solfataricus</th>\n",
              "      <th>Sulfolobus_tokodaii</th>\n",
              "      <th>...</th>\n",
              "      <th>Nyamanini_nyavirus</th>\n",
              "      <th>Canine_pneumovirus</th>\n",
              "      <th>Pneumonia_virus_of_mice</th>\n",
              "      <th>Respiratory_syncytial_virus</th>\n",
              "      <th>Bovine_parainfluenza_virus</th>\n",
              "      <th>Human_parainfluenza_virus</th>\n",
              "      <th>Vesicular_stomatitis_virus</th>\n",
              "      <th>Bovine_rhinitis_B_virus</th>\n",
              "      <th>Encephalomyocarditis_virus</th>\n",
              "      <th>Grapevine_Pinot_gris_virus</th>\n",
              "    </tr>\n",
              "  </thead>\n",
              "  <tbody>\n",
              "    <tr>\n",
              "      <th>MET0001</th>\n",
              "      <td>0.0</td>\n",
              "      <td>0.0</td>\n",
              "      <td>0.0</td>\n",
              "      <td>0.0</td>\n",
              "      <td>0.0</td>\n",
              "      <td>0.0</td>\n",
              "      <td>0.0</td>\n",
              "      <td>0.0</td>\n",
              "      <td>0.0</td>\n",
              "      <td>0.0</td>\n",
              "      <td>...</td>\n",
              "      <td>0.0</td>\n",
              "      <td>0.0</td>\n",
              "      <td>0.0</td>\n",
              "      <td>0.038129</td>\n",
              "      <td>0.0</td>\n",
              "      <td>0.0</td>\n",
              "      <td>0.0</td>\n",
              "      <td>0.0</td>\n",
              "      <td>0.0</td>\n",
              "      <td>0.0</td>\n",
              "    </tr>\n",
              "    <tr>\n",
              "      <th>MET0002</th>\n",
              "      <td>0.0</td>\n",
              "      <td>0.0</td>\n",
              "      <td>0.0</td>\n",
              "      <td>0.0</td>\n",
              "      <td>0.0</td>\n",
              "      <td>0.0</td>\n",
              "      <td>0.0</td>\n",
              "      <td>0.0</td>\n",
              "      <td>0.0</td>\n",
              "      <td>0.0</td>\n",
              "      <td>...</td>\n",
              "      <td>0.0</td>\n",
              "      <td>0.0</td>\n",
              "      <td>0.0</td>\n",
              "      <td>0.002911</td>\n",
              "      <td>0.0</td>\n",
              "      <td>0.0</td>\n",
              "      <td>0.0</td>\n",
              "      <td>0.0</td>\n",
              "      <td>0.0</td>\n",
              "      <td>0.0</td>\n",
              "    </tr>\n",
              "    <tr>\n",
              "      <th>MET0009</th>\n",
              "      <td>0.0</td>\n",
              "      <td>0.0</td>\n",
              "      <td>0.0</td>\n",
              "      <td>0.0</td>\n",
              "      <td>0.0</td>\n",
              "      <td>0.0</td>\n",
              "      <td>0.0</td>\n",
              "      <td>0.0</td>\n",
              "      <td>0.0</td>\n",
              "      <td>0.0</td>\n",
              "      <td>...</td>\n",
              "      <td>0.0</td>\n",
              "      <td>0.0</td>\n",
              "      <td>0.0</td>\n",
              "      <td>0.000000</td>\n",
              "      <td>0.0</td>\n",
              "      <td>0.0</td>\n",
              "      <td>0.0</td>\n",
              "      <td>0.0</td>\n",
              "      <td>0.0</td>\n",
              "      <td>0.0</td>\n",
              "    </tr>\n",
              "    <tr>\n",
              "      <th>MET0011</th>\n",
              "      <td>0.0</td>\n",
              "      <td>0.0</td>\n",
              "      <td>0.0</td>\n",
              "      <td>0.0</td>\n",
              "      <td>0.0</td>\n",
              "      <td>0.0</td>\n",
              "      <td>0.0</td>\n",
              "      <td>0.0</td>\n",
              "      <td>0.0</td>\n",
              "      <td>0.0</td>\n",
              "      <td>...</td>\n",
              "      <td>0.0</td>\n",
              "      <td>0.0</td>\n",
              "      <td>0.0</td>\n",
              "      <td>0.000000</td>\n",
              "      <td>0.0</td>\n",
              "      <td>0.0</td>\n",
              "      <td>0.0</td>\n",
              "      <td>0.0</td>\n",
              "      <td>0.0</td>\n",
              "      <td>0.0</td>\n",
              "    </tr>\n",
              "    <tr>\n",
              "      <th>MET0012</th>\n",
              "      <td>0.0</td>\n",
              "      <td>0.0</td>\n",
              "      <td>0.0</td>\n",
              "      <td>0.0</td>\n",
              "      <td>0.0</td>\n",
              "      <td>0.0</td>\n",
              "      <td>0.0</td>\n",
              "      <td>0.0</td>\n",
              "      <td>0.0</td>\n",
              "      <td>0.0</td>\n",
              "      <td>...</td>\n",
              "      <td>0.0</td>\n",
              "      <td>0.0</td>\n",
              "      <td>0.0</td>\n",
              "      <td>0.000000</td>\n",
              "      <td>0.0</td>\n",
              "      <td>0.0</td>\n",
              "      <td>0.0</td>\n",
              "      <td>0.0</td>\n",
              "      <td>0.0</td>\n",
              "      <td>0.0</td>\n",
              "    </tr>\n",
              "  </tbody>\n",
              "</table>\n",
              "<p>5 rows × 2259 columns</p>\n",
              "</div>"
            ],
            "text/plain": [
              "names    Aeropyrum_pernix  Desulfurococcus_kamchatkensis  \\\n",
              "MET0001               0.0                            0.0   \n",
              "MET0002               0.0                            0.0   \n",
              "MET0009               0.0                            0.0   \n",
              "MET0011               0.0                            0.0   \n",
              "MET0012               0.0                            0.0   \n",
              "\n",
              "names    Ignicoccus_hospitalis  Staphylothermus_marinus  \\\n",
              "MET0001                    0.0                      0.0   \n",
              "MET0002                    0.0                      0.0   \n",
              "MET0009                    0.0                      0.0   \n",
              "MET0011                    0.0                      0.0   \n",
              "MET0012                    0.0                      0.0   \n",
              "\n",
              "names    Hyperthermus_butylicus  Metallosphaera_sedula  \\\n",
              "MET0001                     0.0                    0.0   \n",
              "MET0002                     0.0                    0.0   \n",
              "MET0009                     0.0                    0.0   \n",
              "MET0011                     0.0                    0.0   \n",
              "MET0012                     0.0                    0.0   \n",
              "\n",
              "names    Sulfolobus_acidocaldarius  Sulfolobus_islandicus  \\\n",
              "MET0001                        0.0                    0.0   \n",
              "MET0002                        0.0                    0.0   \n",
              "MET0009                        0.0                    0.0   \n",
              "MET0011                        0.0                    0.0   \n",
              "MET0012                        0.0                    0.0   \n",
              "\n",
              "names    Sulfolobus_solfataricus  Sulfolobus_tokodaii  ...  \\\n",
              "MET0001                      0.0                  0.0  ...   \n",
              "MET0002                      0.0                  0.0  ...   \n",
              "MET0009                      0.0                  0.0  ...   \n",
              "MET0011                      0.0                  0.0  ...   \n",
              "MET0012                      0.0                  0.0  ...   \n",
              "\n",
              "names    Nyamanini_nyavirus  Canine_pneumovirus  Pneumonia_virus_of_mice  \\\n",
              "MET0001                 0.0                 0.0                      0.0   \n",
              "MET0002                 0.0                 0.0                      0.0   \n",
              "MET0009                 0.0                 0.0                      0.0   \n",
              "MET0011                 0.0                 0.0                      0.0   \n",
              "MET0012                 0.0                 0.0                      0.0   \n",
              "\n",
              "names    Respiratory_syncytial_virus  Bovine_parainfluenza_virus  \\\n",
              "MET0001                     0.038129                         0.0   \n",
              "MET0002                     0.002911                         0.0   \n",
              "MET0009                     0.000000                         0.0   \n",
              "MET0011                     0.000000                         0.0   \n",
              "MET0012                     0.000000                         0.0   \n",
              "\n",
              "names    Human_parainfluenza_virus  Vesicular_stomatitis_virus  \\\n",
              "MET0001                        0.0                         0.0   \n",
              "MET0002                        0.0                         0.0   \n",
              "MET0009                        0.0                         0.0   \n",
              "MET0011                        0.0                         0.0   \n",
              "MET0012                        0.0                         0.0   \n",
              "\n",
              "names    Bovine_rhinitis_B_virus  Encephalomyocarditis_virus  \\\n",
              "MET0001                      0.0                         0.0   \n",
              "MET0002                      0.0                         0.0   \n",
              "MET0009                      0.0                         0.0   \n",
              "MET0011                      0.0                         0.0   \n",
              "MET0012                      0.0                         0.0   \n",
              "\n",
              "names    Grapevine_Pinot_gris_virus  \n",
              "MET0001                         0.0  \n",
              "MET0002                         0.0  \n",
              "MET0009                         0.0  \n",
              "MET0011                         0.0  \n",
              "MET0012                         0.0  \n",
              "\n",
              "[5 rows x 2259 columns]"
            ]
          },
          "execution_count": 4,
          "metadata": {},
          "output_type": "execute_result"
        }
      ],
      "source": [
        "# load in the species abundance table\n",
        "compositions_df = pd.read_csv(COMPOSITIONS_FILE, index_col=\"names\").transpose()\n",
        "compositions_df.head()"
      ]
    },
    {
      "cell_type": "markdown",
      "metadata": {
        "id": "Tf2HNPysbhkY"
      },
      "source": [
        "Next to the compositions, we also have some metadata for each sample:"
      ]
    },
    {
      "cell_type": "code",
      "execution_count": 5,
      "metadata": {
        "colab": {
          "base_uri": "https://localhost:8080/",
          "height": 267
        },
        "id": "aI3PX0fcbhkZ",
        "outputId": "d123deab-8565-4771-a051-259f3cf71437"
      },
      "outputs": [
        {
          "data": {
            "text/html": [
              "<div>\n",
              "<style scoped>\n",
              "    .dataframe tbody tr th:only-of-type {\n",
              "        vertical-align: middle;\n",
              "    }\n",
              "\n",
              "    .dataframe tbody tr th {\n",
              "        vertical-align: top;\n",
              "    }\n",
              "\n",
              "    .dataframe thead th {\n",
              "        text-align: right;\n",
              "    }\n",
              "</style>\n",
              "<table border=\"1\" class=\"dataframe\">\n",
              "  <thead>\n",
              "    <tr style=\"text-align: right;\">\n",
              "      <th></th>\n",
              "      <th>Person</th>\n",
              "      <th>Origin</th>\n",
              "      <th>Gender</th>\n",
              "      <th>Age at time of sampling</th>\n",
              "      <th>Date Collected</th>\n",
              "      <th>Timepoint</th>\n",
              "      <th>Site-Symmetry</th>\n",
              "      <th>Method</th>\n",
              "      <th>Site characteristic</th>\n",
              "    </tr>\n",
              "    <tr>\n",
              "      <th>Sample</th>\n",
              "      <th></th>\n",
              "      <th></th>\n",
              "      <th></th>\n",
              "      <th></th>\n",
              "      <th></th>\n",
              "      <th></th>\n",
              "      <th></th>\n",
              "      <th></th>\n",
              "      <th></th>\n",
              "    </tr>\n",
              "  </thead>\n",
              "  <tbody>\n",
              "    <tr>\n",
              "      <th>MET0001</th>\n",
              "      <td>person_03</td>\n",
              "      <td>2014 study</td>\n",
              "      <td>Female</td>\n",
              "      <td>30s</td>\n",
              "      <td>06.24.11</td>\n",
              "      <td>First</td>\n",
              "      <td>Ac-L</td>\n",
              "      <td>Ss</td>\n",
              "      <td>moist</td>\n",
              "    </tr>\n",
              "    <tr>\n",
              "      <th>MET0002</th>\n",
              "      <td>person_03</td>\n",
              "      <td>2014 study</td>\n",
              "      <td>Female</td>\n",
              "      <td>30s</td>\n",
              "      <td>06.24.11</td>\n",
              "      <td>First</td>\n",
              "      <td>Ph-L</td>\n",
              "      <td>Ss</td>\n",
              "      <td>moist</td>\n",
              "    </tr>\n",
              "    <tr>\n",
              "      <th>MET0009</th>\n",
              "      <td>person_01</td>\n",
              "      <td>2014 study</td>\n",
              "      <td>Male</td>\n",
              "      <td>30s</td>\n",
              "      <td>09.30.11</td>\n",
              "      <td>First</td>\n",
              "      <td>Gb-null</td>\n",
              "      <td>Ss</td>\n",
              "      <td>sebaceous</td>\n",
              "    </tr>\n",
              "    <tr>\n",
              "      <th>MET0011</th>\n",
              "      <td>person_01</td>\n",
              "      <td>2014 study</td>\n",
              "      <td>Male</td>\n",
              "      <td>30s</td>\n",
              "      <td>09.30.11</td>\n",
              "      <td>First</td>\n",
              "      <td>Ch-R</td>\n",
              "      <td>Ss</td>\n",
              "      <td>sebaceous</td>\n",
              "    </tr>\n",
              "    <tr>\n",
              "      <th>MET0012</th>\n",
              "      <td>person_01</td>\n",
              "      <td>2014 study</td>\n",
              "      <td>Male</td>\n",
              "      <td>30s</td>\n",
              "      <td>09.30.11</td>\n",
              "      <td>First</td>\n",
              "      <td>Al-R</td>\n",
              "      <td>Ss</td>\n",
              "      <td>sebaceous</td>\n",
              "    </tr>\n",
              "  </tbody>\n",
              "</table>\n",
              "</div>"
            ],
            "text/plain": [
              "            Person      Origin  Gender Age at time of sampling Date Collected  \\\n",
              "Sample                                                                          \n",
              "MET0001  person_03  2014 study  Female                     30s       06.24.11   \n",
              "MET0002  person_03  2014 study  Female                     30s       06.24.11   \n",
              "MET0009  person_01  2014 study    Male                     30s       09.30.11   \n",
              "MET0011  person_01  2014 study    Male                     30s       09.30.11   \n",
              "MET0012  person_01  2014 study    Male                     30s       09.30.11   \n",
              "\n",
              "        Timepoint Site-Symmetry Method Site characteristic  \n",
              "Sample                                                      \n",
              "MET0001     First          Ac-L     Ss               moist  \n",
              "MET0002     First          Ph-L     Ss               moist  \n",
              "MET0009     First       Gb-null     Ss           sebaceous  \n",
              "MET0011     First          Ch-R     Ss           sebaceous  \n",
              "MET0012     First          Al-R     Ss           sebaceous  "
            ]
          },
          "execution_count": 5,
          "metadata": {},
          "output_type": "execute_result"
        }
      ],
      "source": [
        "# load in the metadata\n",
        "metadata_df = pd.read_csv(METADATA_FILE, index_col=\"Sample\")\n",
        "to_drop = [i for i in metadata_df.index if i not in compositions_df.index]\n",
        "metadata_df.drop(index=to_drop, inplace=True)\n",
        "\n",
        "metadata_df.head()"
      ]
    },
    {
      "cell_type": "code",
      "execution_count": 6,
      "metadata": {},
      "outputs": [
        {
          "name": "stdout",
          "output_type": "stream",
          "text": [
            "(array(['person_01', 'person_02', 'person_03', 'person_04', 'person_05',\n",
            "       'person_06', 'person_07', 'person_08', 'person_09', 'person_10',\n",
            "       'person_11', 'person_12'], dtype=object), array([51, 50, 49, 49, 43, 49, 41, 51, 51, 50, 51, 50]))\n"
          ]
        }
      ],
      "source": [
        "# how many samples do we have per person?\n",
        "print(np.unique(metadata_df.Person, return_counts=True))"
      ]
    },
    {
      "cell_type": "markdown",
      "metadata": {
        "id": "RbxcpJdEbhke"
      },
      "source": [
        "# Learning the individuals from the data\n",
        "\n",
        "We have between 41 and 51 samples from each of the 12 individuals, which we can use to teach a machine learning model to learn the individuals in the data. If it is able to do this effectively, we could then use the same model to predict from which person a new sample originated."
      ]
    },
    {
      "cell_type": "markdown",
      "metadata": {
        "id": "K7VCJyKubhkf"
      },
      "source": [
        "## Split off a 'train' and 'test' set\n",
        "To get an idea of how good our machine learning model is at identifying people from their microbial samples, we want to see how well it is on data it has not seen before. To do this, we will first split off a few samples from the data before we train a model on it."
      ]
    },
    {
      "cell_type": "code",
      "execution_count": 7,
      "metadata": {
        "id": "GpWMQEY-bhkf"
      },
      "outputs": [],
      "source": [
        "compositions_train, compositions_test, labels_train, labels_test = train_test_split(compositions_df, metadata_df[\"Person\"], test_size=0.2, random_state=42, stratify=metadata_df[\"Person\"])"
      ]
    },
    {
      "cell_type": "markdown",
      "metadata": {
        "id": "yUlkoeDAbhkg"
      },
      "source": [
        "## Metric learning \n",
        "Metric learning is a type of machine learning that projects labelled data into a new space where similarly labelled objects will fall close to each other. We will attempt two metric learning models here: \n",
        "\n",
        "1. **Neighborhood Components Analysis (NCA):**\n",
        "    NCA is a distance metric learning algorithm which aims to improve the accuracy of nearest neighbors classification compared to the standard Euclidean distance. The algorithm directly maximizes a stochastic variant of the leave-one-out k-nearest neighbors (KNN) score on the training set. It can also learn a low-dimensional linear transformation of data that can be used for data visualization and fast classification ([Goldberger et al., 2005](https://proceedings.neurips.cc/paper/2004/file/42fe880812925e520249e808937738d2-Paper.pdf)).\n",
        "\n",
        "2. **Large Margin Nearest Neighbor Metric Learning (LMNN):**\n",
        "    LMNN learns a Mahalanobis distance metric in the kNN classification setting. The learned metric attempts to keep close k-nearest neighbors from the same class, while keeping examples from different classes separated by a large margin. This algorithm makes no assumptions about the distribution of the data ([Weinberger et al., 2009](https://jmlr.csail.mit.edu/papers/volume10/weinberger09a/weinberger09a.pdf)).\n",
        "\n",
        "*FYI: for more laymans terms, both of these algotihms have wikipedia entries as well.* "
      ]
    },
    {
      "cell_type": "code",
      "execution_count": 7,
      "metadata": {
        "id": "a4QadG_Jbhkg"
      },
      "outputs": [],
      "source": [
        "# Fit a model to learn the distances in this dataset\n",
        "nca_metric_learning_model = NCA(max_iter=100, n_components=1000, random_state=42)\n",
        "lmnn_metric_learning_model = LMNN(max_iter=100, k = 10, learn_rate=1e-6, n_components=1000, random_state=42)\n",
        "nca_metric_learning_model.fit(compositions_train, labels_train)\n",
        "lmnn_metric_learning_model.fit(compositions_train, labels_train)\n",
        "\n",
        "# Transform the compositions according to the learned metrics\n",
        "nca_transformed_data_train = nca_metric_learning_model.transform(compositions_train)\n",
        "lmnn_transformed_data_train = lmnn_metric_learning_model.transform(compositions_train)"
      ]
    },
    {
      "cell_type": "markdown",
      "metadata": {},
      "source": [
        "^^^ note: the LMNN algorithm is quite slow. On an intel i5 macbook pro with 16 GB RAM, the above block takes about 83 minutes to complete in its entirety."
      ]
    },
    {
      "cell_type": "markdown",
      "metadata": {},
      "source": [
        "### Understanding our algorithms in 3D\n",
        "While metric learning can be done in a high-number of dimensions (in the code block above, we do it in 2259), we can get an intuitive understanding of this approach by doing it on samples from persons 1 till 8 and in only 3 dimensions. This way we can plot the transformed data and see how well it places samples from the same people together."
      ]
    },
    {
      "cell_type": "code",
      "execution_count": 26,
      "metadata": {},
      "outputs": [],
      "source": [
        "# subset the data to only persons 1 till 8\n",
        "subset_indexes = [idx for idx, i in enumerate(labels_train) if i in [\"person_01\", \"person_02\", \"person_03\", \"person_04\", \"person_05\", \"person_06\"]]\n",
        "compositions_subset = compositions_train.iloc[subset_indexes]\n",
        "labels_subset = labels_train[subset_indexes]"
      ]
    },
    {
      "cell_type": "code",
      "execution_count": 9,
      "metadata": {
        "id": "NRIAmYxCbhkg",
        "outputId": "a9919fb0-f27f-4969-e5c1-7448c9816035"
      },
      "outputs": [
        {
          "data": {
            "application/vnd.plotly.v1+json": {
              "config": {
                "plotlyServerURL": "https://plot.ly"
              },
              "data": [
                {
                  "hovertemplate": "color=person_06<br>0=%{x}<br>1=%{y}<br>2=%{z}<extra></extra>",
                  "legendgroup": "person_06",
                  "marker": {
                    "color": "#636efa",
                    "size": 3,
                    "symbol": "circle"
                  },
                  "mode": "markers",
                  "name": "person_06",
                  "scene": "scene",
                  "showlegend": true,
                  "type": "scatter3d",
                  "x": [
                    1.7772332825136559,
                    2.2708325274286203,
                    2.35582486053925,
                    2.376738613982553,
                    2.3711996512885714,
                    2.203894252814903,
                    2.825794459974875,
                    2.296538273150818,
                    2.404407320407364,
                    2.3733368310260543,
                    2.478568456088317,
                    2.3572823704454544,
                    2.3054099605038556,
                    2.374068419351305,
                    2.42138516027336,
                    2.326786685579889,
                    2.3963971111979996,
                    2.409750882012337,
                    2.3319972461146543,
                    2.403199522958583,
                    2.354944202256277,
                    2.7933331504420584,
                    2.3251573451630976,
                    2.8859039727355373,
                    2.3127784899612807,
                    2.3297629034450833,
                    2.3228832766994785,
                    2.413798264299542,
                    2.3432885108509427,
                    2.6418995352074566,
                    2.3824113347886096,
                    1.8572391030070636,
                    2.1623933986301527,
                    2.420679021982833,
                    2.360735630658507,
                    2.373826125686633,
                    2.4137305880584314,
                    2.2619146296261015,
                    2.3567155216249134
                  ],
                  "y": [
                    10.272028546532619,
                    9.47669425839299,
                    10.596056577483445,
                    10.8599696510714,
                    10.863579500808385,
                    9.285990839409811,
                    11.411563145937764,
                    10.35464301811327,
                    10.69194667919431,
                    10.268100719907611,
                    10.252668851896122,
                    10.901248587724897,
                    10.861982794773295,
                    10.937704023004112,
                    10.623903661983544,
                    10.148041664348689,
                    10.224328321668306,
                    10.54170036077234,
                    10.194301665798237,
                    10.953557587518134,
                    10.815512429035474,
                    11.841161453705684,
                    10.23420641657679,
                    11.547677032387758,
                    9.820529236756201,
                    10.531159959088965,
                    10.179519317684044,
                    10.671912509118524,
                    10.061508361146695,
                    11.101117882969527,
                    10.548447028961402,
                    4.566257928387381,
                    8.435999549986677,
                    10.604187504675432,
                    9.585677307201749,
                    10.977438556678397,
                    10.479773879448524,
                    9.647395454944864,
                    10.798214080638758
                  ],
                  "z": [
                    -1.1051620999283966,
                    -1.2968135591033443,
                    -0.7626227370012861,
                    -0.8204253473029308,
                    -0.7504059284963223,
                    -1.353942109886407,
                    -0.6073518936432523,
                    -1.0637376075950051,
                    -0.8539525543631967,
                    -1.0766457700167305,
                    -1.0524510631644697,
                    -0.7738771801117474,
                    -0.7607990603800143,
                    -0.7877975699607562,
                    -0.9819785753218782,
                    -1.1247186430779035,
                    -1.0830836330291813,
                    -0.9828204612127536,
                    -1.1351208894344165,
                    -0.791316101746129,
                    -0.7816592855334505,
                    -0.5550363200450221,
                    -1.1395349145860822,
                    -0.504654405644521,
                    -1.1686225561406685,
                    -0.9829655078153898,
                    -1.1905845784494602,
                    -0.9901339566301006,
                    -1.0319494641695561,
                    -0.7449789563902509,
                    -0.9706541057870743,
                    -1.2697827911393387,
                    -1.1121589529749871,
                    -0.7760525538106187,
                    -1.2581272220227913,
                    -0.759079688283689,
                    -0.9848921533132877,
                    -1.211758984770618,
                    -0.8473969757687401
                  ]
                },
                {
                  "hovertemplate": "color=person_04<br>0=%{x}<br>1=%{y}<br>2=%{z}<extra></extra>",
                  "legendgroup": "person_04",
                  "marker": {
                    "color": "#EF553B",
                    "size": 3,
                    "symbol": "circle"
                  },
                  "mode": "markers",
                  "name": "person_04",
                  "scene": "scene",
                  "showlegend": true,
                  "type": "scatter3d",
                  "x": [
                    -0.5961502236225902,
                    -0.5097412439443292,
                    -0.6881518751679483,
                    -0.6600305118074004,
                    -1.1715629205932205,
                    -0.6612198576740949,
                    -0.7516671141049588,
                    -0.6461375791535764,
                    -1.2038352234520506,
                    -0.5614874613644769,
                    -0.725166141282289,
                    -0.6127563657149894,
                    -0.6583379253072441,
                    -1.382947774612156,
                    -1.1634256161454966,
                    -0.6310993953959274,
                    -0.7864452507463198,
                    -0.5250226363000585,
                    -0.9328062538562039,
                    -0.9035070996585945,
                    -0.9482500181711446,
                    -0.7660630913395985,
                    -0.7680096729292292,
                    1.6399868834272975,
                    -0.9882960438438864,
                    -0.9309117256947845,
                    -0.7773501990965239,
                    -0.6843340323874829,
                    -1.788827679881273,
                    -0.9509477257807679,
                    -0.7955329424095489,
                    -0.7633519740429899,
                    -0.7154759570389939,
                    -1.6344161949206126,
                    -1.192258066351798,
                    -0.811118981038434,
                    -0.5233232899383389,
                    -0.8733280302362898,
                    -2.1543953530863074
                  ],
                  "y": [
                    -1.7535864896636912,
                    -1.8613271966625788,
                    -1.934116270544643,
                    -1.7245946787014923,
                    -2.3504978637455793,
                    -2.4262165166259946,
                    -0.8981764223350378,
                    -3.213130909776218,
                    -1.9684798384624715,
                    -1.767034884602655,
                    -2.1832997481347522,
                    -1.6797454431747134,
                    -2.555895442593977,
                    -1.9405418230649347,
                    -2.4472086832868962,
                    -1.7455252893437554,
                    -2.5239933192898594,
                    -1.8021078563998205,
                    -2.5785424234576197,
                    -2.639223276462981,
                    -2.9869201906839917,
                    -3.5396252338655376,
                    -2.1921719581042325,
                    -1.5281244000262897,
                    -2.3079998797135595,
                    -2.466604504329432,
                    -1.9687583249907972,
                    -2.0548968664192397,
                    -2.7382165280323774,
                    -2.5018595803348465,
                    -2.8877973468135343,
                    -2.3088409610218004,
                    -2.174439955198064,
                    -4.166794286965767,
                    -2.1978893035155784,
                    -1.7492583379692497,
                    -1.6825409895946273,
                    -2.3498393991687596,
                    -1.9980035685350512
                  ],
                  "z": [
                    8.604154803481594,
                    8.577732394388,
                    8.520427642696855,
                    8.593621803502408,
                    8.478537116721544,
                    8.216484082993087,
                    8.471045831814696,
                    7.533864857532593,
                    8.687113444077026,
                    8.571140924011043,
                    8.430931339757233,
                    8.60713062151009,
                    8.164870324289009,
                    8.782981146287245,
                    8.338703233859121,
                    8.604953908519912,
                    8.109476973529954,
                    8.490206690703456,
                    8.332203184043992,
                    8.273899541281573,
                    8.118241969827116,
                    7.986444976616402,
                    8.383221390154562,
                    -1.6063298976218197,
                    8.430635110795453,
                    8.321026285317885,
                    8.533528260911298,
                    8.451473210278271,
                    5.281250760257681,
                    8.314050368382741,
                    8.019772548534082,
                    8.33829167889608,
                    8.400906399613154,
                    3.6517260847844115,
                    8.572405681573494,
                    8.026497859923024,
                    8.63625548832621,
                    8.238636622617747,
                    8.867581953466274
                  ]
                },
                {
                  "hovertemplate": "color=person_01<br>0=%{x}<br>1=%{y}<br>2=%{z}<extra></extra>",
                  "legendgroup": "person_01",
                  "marker": {
                    "color": "#00cc96",
                    "size": 3,
                    "symbol": "circle"
                  },
                  "mode": "markers",
                  "name": "person_01",
                  "scene": "scene",
                  "showlegend": true,
                  "type": "scatter3d",
                  "x": [
                    -2.676393101418993,
                    -3.6310094052452393,
                    -3.6125885199968764,
                    -3.638136272328507,
                    -3.505767156660289,
                    -3.6276504311521762,
                    -3.6327578779888614,
                    -3.395994208305436,
                    -1.5702632200713644,
                    -3.3949213942607703,
                    -3.466772774367641,
                    -3.9614243663728326,
                    -3.5467914271252354,
                    -3.5991396063208136,
                    -3.1955184594282984,
                    -3.415406181131437,
                    -3.6080876888650977,
                    -3.44967062125072,
                    -3.5532992629236,
                    -3.7012203684316627,
                    -3.5729180372745746,
                    -3.484327254419984,
                    -3.4293314241758797,
                    -3.488735265631446,
                    -3.831624849179608,
                    -3.508275935714506,
                    -3.7042713589937653,
                    -3.6481932147021134,
                    -3.744427014048753,
                    -3.364986582170408,
                    -3.6084793256725143,
                    -3.6470334249629586,
                    -3.925538311335131,
                    -3.8611881423498096,
                    -3.553000823531064,
                    -3.665172151222767,
                    -3.651127047654697,
                    -3.574263298738972,
                    -3.1900365054148923,
                    -3.631663409613273,
                    -3.541331839231522
                  ],
                  "y": [
                    -0.4830166709948008,
                    3.7757942626518135,
                    4.076880557441342,
                    3.5341344624648237,
                    4.097413934360615,
                    3.6791470979085448,
                    3.853544584572858,
                    4.361264283605471,
                    0.7145541606567809,
                    5.003061412904223,
                    4.949163565087815,
                    2.1275083437973774,
                    4.348293242371193,
                    3.740209673378381,
                    1.4776528130518365,
                    4.927930212493008,
                    3.7879890561386844,
                    4.854732834421777,
                    4.452950937781967,
                    3.481840511119043,
                    4.724309552360557,
                    4.901310761877326,
                    4.929198493101588,
                    4.848228229959776,
                    3.811091268294838,
                    4.91064459387649,
                    5.239037055500764,
                    3.4379484270044176,
                    3.972336189865933,
                    4.824814390283582,
                    5.611722889199351,
                    3.7274123250702003,
                    5.449009556416336,
                    1.1024418404659406,
                    4.556727376470533,
                    3.594569668393305,
                    4.264360564674236,
                    3.6114600679700763,
                    2.6089270302522105,
                    3.1784491917137068,
                    4.523866570534844
                  ],
                  "z": [
                    -3.1423506456665025,
                    -4.080705498577596,
                    -3.9012333690245455,
                    -4.097469244249466,
                    -3.9203563137733406,
                    -4.133860739992908,
                    -4.11232258948334,
                    -4.14772531467287,
                    -3.2772507014911647,
                    -3.449214320167382,
                    -3.503867122911063,
                    -3.8460615969117655,
                    -3.7829810349383077,
                    -4.282756443885776,
                    -4.1344052616360125,
                    -3.4582547173370957,
                    -4.093879027365968,
                    -3.5414541851542447,
                    -3.7332255354091735,
                    -4.20437327419645,
                    -3.572231124730992,
                    -3.490362104655404,
                    -3.4706629507678657,
                    -3.5236135514972826,
                    -3.9943298933395326,
                    -3.5151754668909483,
                    -3.4436727196417896,
                    -4.291974889047498,
                    -4.003736943116274,
                    -3.501985512571456,
                    -3.628723923747194,
                    -4.125595797437517,
                    -3.751441893445593,
                    -2.7638789162564574,
                    -4.100778624327829,
                    -4.15434483415514,
                    -3.7899732802265165,
                    -4.269180192821919,
                    -4.1821205888421495,
                    -4.35919146024896,
                    -3.707205300366822
                  ]
                },
                {
                  "hovertemplate": "color=person_05<br>0=%{x}<br>1=%{y}<br>2=%{z}<extra></extra>",
                  "legendgroup": "person_05",
                  "marker": {
                    "color": "#ab63fa",
                    "size": 3,
                    "symbol": "circle"
                  },
                  "mode": "markers",
                  "name": "person_05",
                  "scene": "scene",
                  "showlegend": true,
                  "type": "scatter3d",
                  "x": [
                    -4.41475484674209,
                    -4.176475412839579,
                    -4.360159737357397,
                    -4.327258757998258,
                    -4.287665323789433,
                    -4.208842586629631,
                    -4.630722117497776,
                    -3.122721251444525,
                    -4.35838097814553,
                    -4.186553559170744,
                    -4.236676546020274,
                    -4.349736098441291,
                    -4.293777963562309,
                    -4.336559586707441,
                    -4.318483248474268,
                    -4.32056792241216,
                    -4.406235759541381,
                    -4.404207164454256,
                    -4.417788032984712,
                    -4.369060343303454,
                    -4.255726216863565,
                    -4.278101235120196,
                    -4.255463298361349,
                    -2.869613718296354,
                    -4.290816610800052,
                    -4.404495927146039,
                    -4.372411544476424,
                    -4.324551088097294,
                    -4.360447457845721,
                    -4.331108557047138,
                    -4.404025713049714,
                    -4.228363740118834,
                    -4.388298773593698,
                    -4.374287417499378
                  ],
                  "y": [
                    -8.49273707541779,
                    -7.278826235186471,
                    -7.845581409402791,
                    -7.586137984121609,
                    -7.450346047163521,
                    -7.234083657689529,
                    -7.58476795354549,
                    -4.394687441212911,
                    -7.678343699985595,
                    -7.267837003387036,
                    -7.388013091014274,
                    -8.032829417642755,
                    -7.380127376126753,
                    -7.539557935603634,
                    -8.470746836422164,
                    -8.267820099681787,
                    -8.175757525565645,
                    -8.17766964494778,
                    -7.76112413738473,
                    -7.640844774117727,
                    -7.330389064142121,
                    -7.296752689718862,
                    -7.4976259681719695,
                    -6.095676673613894,
                    -7.8204457954620645,
                    -7.9039096908645305,
                    -7.67777874159741,
                    -7.450253006327419,
                    -7.45456582337072,
                    -8.168058877016955,
                    -7.73941120005838,
                    -7.309414470411491,
                    -7.838039669333318,
                    -7.572506446501134
                  ],
                  "z": [
                    -1.1824153403692392,
                    -0.583920928357855,
                    -0.8557577617838419,
                    -0.7445445898263205,
                    -0.6889178666064566,
                    -0.6566044909328219,
                    -0.6180633126952078,
                    -0.3673356964078861,
                    -0.7495482915760023,
                    -0.57046594059572,
                    -0.6285956141400602,
                    -0.9795860745748679,
                    -0.6384813862558065,
                    -0.7169789773546622,
                    -1.255106345580371,
                    -1.1074089928814057,
                    -1.005250499499121,
                    -0.9986909993227031,
                    -0.768314772314989,
                    -0.7314387321225233,
                    -0.6439901364688867,
                    -0.666906483899325,
                    -0.6660904917185855,
                    -1.4085874532726803,
                    -0.8849230154909842,
                    -0.8832404752265779,
                    -0.7269605280785311,
                    -0.652756495747301,
                    -0.5868039379924221,
                    -1.032848621680353,
                    -0.7944294335463802,
                    -0.6598977985161304,
                    -0.8945251665655687,
                    -0.6916412421277265
                  ]
                },
                {
                  "hovertemplate": "color=person_03<br>0=%{x}<br>1=%{y}<br>2=%{z}<extra></extra>",
                  "legendgroup": "person_03",
                  "marker": {
                    "color": "#FFA15A",
                    "size": 3,
                    "symbol": "circle"
                  },
                  "mode": "markers",
                  "name": "person_03",
                  "scene": "scene",
                  "showlegend": true,
                  "type": "scatter3d",
                  "x": [
                    15.209834216388554,
                    15.093139213461676,
                    15.118717038108564,
                    15.015206799529334,
                    15.100565214455795,
                    15.259476155987388,
                    15.0840800379532,
                    15.353533899145743,
                    15.190143994176522,
                    15.13719604841716,
                    15.23129298089597,
                    15.368268894081442,
                    15.094266385000454,
                    15.063007726998675,
                    15.170442142409492,
                    15.25294487946341,
                    15.053766785208358,
                    2.8618107710183596,
                    15.08832424968751,
                    15.260035540518007,
                    15.40714791241912,
                    15.167949421497806,
                    15.228379376920195,
                    15.372715081108232,
                    15.259453583899056,
                    15.154677780849902,
                    15.050744032539463,
                    15.369127961487175,
                    15.160706749067344,
                    15.374768348022577,
                    15.19387524033555,
                    15.074123301678624,
                    15.264441540303558,
                    15.301632586230706,
                    14.874966531679041,
                    15.301731988133602,
                    15.28342651856589,
                    15.358243345983096,
                    15.28241881715714
                  ],
                  "y": [
                    -4.8246548628485115,
                    -4.63433457887851,
                    -4.9071610296406725,
                    -4.621441320593167,
                    -4.694937346730178,
                    -3.8726017229258467,
                    -4.365211398804414,
                    -3.6199849148726915,
                    -4.690787057171947,
                    -4.757580477672269,
                    -4.223055577917687,
                    -3.590152695100582,
                    -5.04943011219693,
                    -5.467470664341362,
                    -3.506368486444419,
                    -3.695387784673973,
                    -4.677987890442702,
                    -1.011300124923861,
                    -5.007226488707985,
                    -3.7917509455867418,
                    -3.500463622770992,
                    -4.68012223232634,
                    -4.017674227432239,
                    -3.6362326234882545,
                    -3.8227361487443154,
                    -4.531996169357357,
                    -4.758020796820293,
                    -4.583764190440371,
                    -4.835390410042373,
                    -3.5573675281094648,
                    -4.041693964273746,
                    -4.906965263880502,
                    -3.7115129420065145,
                    -3.5913551793358023,
                    -5.124512642753743,
                    -4.623215030881266,
                    -4.6269509368258435,
                    -3.5481482182035045,
                    -3.8300432245586364
                  ],
                  "z": [
                    -2.8656347496720658,
                    -2.687662516543734,
                    -2.8498707706440856,
                    -2.6392938211571226,
                    -2.739147127926568,
                    -2.344181967475713,
                    -2.6038145073217818,
                    -2.203141610714138,
                    -2.7538025561928245,
                    -2.7847216998707998,
                    -2.5796686065481813,
                    -2.225047040845705,
                    -2.957109479466419,
                    -3.0532181062433317,
                    -2.1866171040731994,
                    -2.2771520642926957,
                    -2.7026641923637027,
                    0.9589900003026577,
                    -2.903565027344002,
                    -2.3046523281151083,
                    -2.123999741437764,
                    -2.7212316536458507,
                    -2.4619319282595207,
                    -2.207574256272473,
                    -2.31072004106106,
                    -2.6626508955655783,
                    -2.7470779548653397,
                    -2.707756062098063,
                    -2.8129596183741326,
                    -2.1873238699435387,
                    -2.4553098028808895,
                    -2.9390721949718785,
                    -2.2829868267775093,
                    -2.2167953774047167,
                    -2.953981481109077,
                    -2.7764168387119725,
                    -2.8797181597093733,
                    -2.195960030867533,
                    -2.3126365552163684
                  ]
                },
                {
                  "hovertemplate": "color=person_02<br>0=%{x}<br>1=%{y}<br>2=%{z}<extra></extra>",
                  "legendgroup": "person_02",
                  "marker": {
                    "color": "#19d3f3",
                    "size": 3,
                    "symbol": "circle"
                  },
                  "mode": "markers",
                  "name": "person_02",
                  "scene": "scene",
                  "showlegend": true,
                  "type": "scatter3d",
                  "x": [
                    -4.020056208007015,
                    -3.9731974512066053,
                    -3.6982309036861922,
                    -4.24838586486084,
                    -3.9470468822923825,
                    -3.970635516715176,
                    -3.8141925853604794,
                    -3.8138097876425587,
                    -3.4970999131176717,
                    -3.721421810115025,
                    -3.6339161877796577,
                    -3.407992657640269,
                    -3.525932751766911,
                    -3.510646412982622,
                    -3.463189470176047,
                    -3.8913519365133498,
                    -3.5784551506464695,
                    2.919455130117879,
                    -3.4053396710677566,
                    -3.8323508006425326,
                    -3.516339005092784,
                    -7.110827391682526,
                    -3.8963599625875727,
                    -3.9331025773125567,
                    -3.938332983880744,
                    -3.8139538761584006,
                    -3.9034323153303174,
                    -3.931177239492089,
                    -3.7724106001943047,
                    -4.415321768054022,
                    -5.20924626793872,
                    -3.336287743310002,
                    -3.602449723254763,
                    -2.7712970260156964,
                    -3.627211447326844,
                    -3.4300234599357338,
                    -6.162097327778011,
                    -3.7031199165067985,
                    -3.563105490904026,
                    -3.5684812530235472
                  ],
                  "y": [
                    -5.6780213633322845,
                    -5.875663581362296,
                    -5.1211926287447795,
                    -4.48944829552969,
                    -5.750477774933153,
                    -5.7171912142176495,
                    -5.401672631279405,
                    -5.323863120829844,
                    -5.278946263205183,
                    -5.702843468954727,
                    -5.024081333041404,
                    -4.6197922786075765,
                    -4.957948559567418,
                    -4.996259987961982,
                    -5.270217241649458,
                    -5.639922431039973,
                    -5.0023496708288,
                    -1.0430157776563194,
                    -5.033615605232971,
                    -6.152743778229062,
                    -4.703597732935256,
                    -1.3770261533366002,
                    -5.965747209168811,
                    -5.465814123239918,
                    -5.375564061087263,
                    -5.270410685986828,
                    -4.584617300722588,
                    -4.9609469435395575,
                    -5.419193417914494,
                    -5.411026502063287,
                    -6.21377737480791,
                    -5.038674834065795,
                    -4.951559595348994,
                    -6.4775816619204,
                    -5.150035426246443,
                    -5.908269348769576,
                    -13.50226231216345,
                    -5.052378434289151,
                    -5.641927169987521,
                    -5.020853117270454
                  ],
                  "z": [
                    -6.000660976202999,
                    -6.062437572514945,
                    -5.784505901887783,
                    -5.923334047948689,
                    -6.037774835155712,
                    -6.002195357183197,
                    -5.8866283766811485,
                    -5.8542685576955105,
                    -5.898779856151872,
                    -6.077835627192307,
                    -5.759176254245086,
                    -5.658447040716632,
                    -5.704594867287192,
                    -5.745992100004271,
                    -5.925794829453365,
                    -5.9735690892111695,
                    -5.742875994392083,
                    2.74320873287966,
                    -5.906448639934601,
                    -6.452644449057273,
                    -5.712761600926505,
                    -7.899393360565729,
                    -6.162891715812516,
                    -5.88083335523538,
                    -5.822467090889178,
                    -5.825430816184465,
                    -6.237867611002225,
                    -6.4904513945750395,
                    -5.899210402784735,
                    -5.375441154795321,
                    -6.374829699932052,
                    -5.763420622487602,
                    -5.738615340951441,
                    -6.261439940252503,
                    -5.841105327048383,
                    -6.079954347785755,
                    -1.789845047086739,
                    -5.696209327661201,
                    -6.416397758491682,
                    -5.7460766426220875
                  ]
                }
              ],
              "layout": {
                "legend": {
                  "title": {
                    "text": "color"
                  },
                  "tracegroupgap": 0
                },
                "margin": {
                  "t": 60
                },
                "scene": {
                  "domain": {
                    "x": [
                      0,
                      1
                    ],
                    "y": [
                      0,
                      1
                    ]
                  },
                  "xaxis": {
                    "title": {
                      "text": "0"
                    }
                  },
                  "yaxis": {
                    "title": {
                      "text": "1"
                    }
                  },
                  "zaxis": {
                    "title": {
                      "text": "2"
                    }
                  }
                },
                "template": {
                  "data": {
                    "bar": [
                      {
                        "error_x": {
                          "color": "#2a3f5f"
                        },
                        "error_y": {
                          "color": "#2a3f5f"
                        },
                        "marker": {
                          "line": {
                            "color": "#E5ECF6",
                            "width": 0.5
                          },
                          "pattern": {
                            "fillmode": "overlay",
                            "size": 10,
                            "solidity": 0.2
                          }
                        },
                        "type": "bar"
                      }
                    ],
                    "barpolar": [
                      {
                        "marker": {
                          "line": {
                            "color": "#E5ECF6",
                            "width": 0.5
                          },
                          "pattern": {
                            "fillmode": "overlay",
                            "size": 10,
                            "solidity": 0.2
                          }
                        },
                        "type": "barpolar"
                      }
                    ],
                    "carpet": [
                      {
                        "aaxis": {
                          "endlinecolor": "#2a3f5f",
                          "gridcolor": "white",
                          "linecolor": "white",
                          "minorgridcolor": "white",
                          "startlinecolor": "#2a3f5f"
                        },
                        "baxis": {
                          "endlinecolor": "#2a3f5f",
                          "gridcolor": "white",
                          "linecolor": "white",
                          "minorgridcolor": "white",
                          "startlinecolor": "#2a3f5f"
                        },
                        "type": "carpet"
                      }
                    ],
                    "choropleth": [
                      {
                        "colorbar": {
                          "outlinewidth": 0,
                          "ticks": ""
                        },
                        "type": "choropleth"
                      }
                    ],
                    "contour": [
                      {
                        "colorbar": {
                          "outlinewidth": 0,
                          "ticks": ""
                        },
                        "colorscale": [
                          [
                            0,
                            "#0d0887"
                          ],
                          [
                            0.1111111111111111,
                            "#46039f"
                          ],
                          [
                            0.2222222222222222,
                            "#7201a8"
                          ],
                          [
                            0.3333333333333333,
                            "#9c179e"
                          ],
                          [
                            0.4444444444444444,
                            "#bd3786"
                          ],
                          [
                            0.5555555555555556,
                            "#d8576b"
                          ],
                          [
                            0.6666666666666666,
                            "#ed7953"
                          ],
                          [
                            0.7777777777777778,
                            "#fb9f3a"
                          ],
                          [
                            0.8888888888888888,
                            "#fdca26"
                          ],
                          [
                            1,
                            "#f0f921"
                          ]
                        ],
                        "type": "contour"
                      }
                    ],
                    "contourcarpet": [
                      {
                        "colorbar": {
                          "outlinewidth": 0,
                          "ticks": ""
                        },
                        "type": "contourcarpet"
                      }
                    ],
                    "heatmap": [
                      {
                        "colorbar": {
                          "outlinewidth": 0,
                          "ticks": ""
                        },
                        "colorscale": [
                          [
                            0,
                            "#0d0887"
                          ],
                          [
                            0.1111111111111111,
                            "#46039f"
                          ],
                          [
                            0.2222222222222222,
                            "#7201a8"
                          ],
                          [
                            0.3333333333333333,
                            "#9c179e"
                          ],
                          [
                            0.4444444444444444,
                            "#bd3786"
                          ],
                          [
                            0.5555555555555556,
                            "#d8576b"
                          ],
                          [
                            0.6666666666666666,
                            "#ed7953"
                          ],
                          [
                            0.7777777777777778,
                            "#fb9f3a"
                          ],
                          [
                            0.8888888888888888,
                            "#fdca26"
                          ],
                          [
                            1,
                            "#f0f921"
                          ]
                        ],
                        "type": "heatmap"
                      }
                    ],
                    "heatmapgl": [
                      {
                        "colorbar": {
                          "outlinewidth": 0,
                          "ticks": ""
                        },
                        "colorscale": [
                          [
                            0,
                            "#0d0887"
                          ],
                          [
                            0.1111111111111111,
                            "#46039f"
                          ],
                          [
                            0.2222222222222222,
                            "#7201a8"
                          ],
                          [
                            0.3333333333333333,
                            "#9c179e"
                          ],
                          [
                            0.4444444444444444,
                            "#bd3786"
                          ],
                          [
                            0.5555555555555556,
                            "#d8576b"
                          ],
                          [
                            0.6666666666666666,
                            "#ed7953"
                          ],
                          [
                            0.7777777777777778,
                            "#fb9f3a"
                          ],
                          [
                            0.8888888888888888,
                            "#fdca26"
                          ],
                          [
                            1,
                            "#f0f921"
                          ]
                        ],
                        "type": "heatmapgl"
                      }
                    ],
                    "histogram": [
                      {
                        "marker": {
                          "pattern": {
                            "fillmode": "overlay",
                            "size": 10,
                            "solidity": 0.2
                          }
                        },
                        "type": "histogram"
                      }
                    ],
                    "histogram2d": [
                      {
                        "colorbar": {
                          "outlinewidth": 0,
                          "ticks": ""
                        },
                        "colorscale": [
                          [
                            0,
                            "#0d0887"
                          ],
                          [
                            0.1111111111111111,
                            "#46039f"
                          ],
                          [
                            0.2222222222222222,
                            "#7201a8"
                          ],
                          [
                            0.3333333333333333,
                            "#9c179e"
                          ],
                          [
                            0.4444444444444444,
                            "#bd3786"
                          ],
                          [
                            0.5555555555555556,
                            "#d8576b"
                          ],
                          [
                            0.6666666666666666,
                            "#ed7953"
                          ],
                          [
                            0.7777777777777778,
                            "#fb9f3a"
                          ],
                          [
                            0.8888888888888888,
                            "#fdca26"
                          ],
                          [
                            1,
                            "#f0f921"
                          ]
                        ],
                        "type": "histogram2d"
                      }
                    ],
                    "histogram2dcontour": [
                      {
                        "colorbar": {
                          "outlinewidth": 0,
                          "ticks": ""
                        },
                        "colorscale": [
                          [
                            0,
                            "#0d0887"
                          ],
                          [
                            0.1111111111111111,
                            "#46039f"
                          ],
                          [
                            0.2222222222222222,
                            "#7201a8"
                          ],
                          [
                            0.3333333333333333,
                            "#9c179e"
                          ],
                          [
                            0.4444444444444444,
                            "#bd3786"
                          ],
                          [
                            0.5555555555555556,
                            "#d8576b"
                          ],
                          [
                            0.6666666666666666,
                            "#ed7953"
                          ],
                          [
                            0.7777777777777778,
                            "#fb9f3a"
                          ],
                          [
                            0.8888888888888888,
                            "#fdca26"
                          ],
                          [
                            1,
                            "#f0f921"
                          ]
                        ],
                        "type": "histogram2dcontour"
                      }
                    ],
                    "mesh3d": [
                      {
                        "colorbar": {
                          "outlinewidth": 0,
                          "ticks": ""
                        },
                        "type": "mesh3d"
                      }
                    ],
                    "parcoords": [
                      {
                        "line": {
                          "colorbar": {
                            "outlinewidth": 0,
                            "ticks": ""
                          }
                        },
                        "type": "parcoords"
                      }
                    ],
                    "pie": [
                      {
                        "automargin": true,
                        "type": "pie"
                      }
                    ],
                    "scatter": [
                      {
                        "marker": {
                          "colorbar": {
                            "outlinewidth": 0,
                            "ticks": ""
                          }
                        },
                        "type": "scatter"
                      }
                    ],
                    "scatter3d": [
                      {
                        "line": {
                          "colorbar": {
                            "outlinewidth": 0,
                            "ticks": ""
                          }
                        },
                        "marker": {
                          "colorbar": {
                            "outlinewidth": 0,
                            "ticks": ""
                          }
                        },
                        "type": "scatter3d"
                      }
                    ],
                    "scattercarpet": [
                      {
                        "marker": {
                          "colorbar": {
                            "outlinewidth": 0,
                            "ticks": ""
                          }
                        },
                        "type": "scattercarpet"
                      }
                    ],
                    "scattergeo": [
                      {
                        "marker": {
                          "colorbar": {
                            "outlinewidth": 0,
                            "ticks": ""
                          }
                        },
                        "type": "scattergeo"
                      }
                    ],
                    "scattergl": [
                      {
                        "marker": {
                          "colorbar": {
                            "outlinewidth": 0,
                            "ticks": ""
                          }
                        },
                        "type": "scattergl"
                      }
                    ],
                    "scattermapbox": [
                      {
                        "marker": {
                          "colorbar": {
                            "outlinewidth": 0,
                            "ticks": ""
                          }
                        },
                        "type": "scattermapbox"
                      }
                    ],
                    "scatterpolar": [
                      {
                        "marker": {
                          "colorbar": {
                            "outlinewidth": 0,
                            "ticks": ""
                          }
                        },
                        "type": "scatterpolar"
                      }
                    ],
                    "scatterpolargl": [
                      {
                        "marker": {
                          "colorbar": {
                            "outlinewidth": 0,
                            "ticks": ""
                          }
                        },
                        "type": "scatterpolargl"
                      }
                    ],
                    "scatterternary": [
                      {
                        "marker": {
                          "colorbar": {
                            "outlinewidth": 0,
                            "ticks": ""
                          }
                        },
                        "type": "scatterternary"
                      }
                    ],
                    "surface": [
                      {
                        "colorbar": {
                          "outlinewidth": 0,
                          "ticks": ""
                        },
                        "colorscale": [
                          [
                            0,
                            "#0d0887"
                          ],
                          [
                            0.1111111111111111,
                            "#46039f"
                          ],
                          [
                            0.2222222222222222,
                            "#7201a8"
                          ],
                          [
                            0.3333333333333333,
                            "#9c179e"
                          ],
                          [
                            0.4444444444444444,
                            "#bd3786"
                          ],
                          [
                            0.5555555555555556,
                            "#d8576b"
                          ],
                          [
                            0.6666666666666666,
                            "#ed7953"
                          ],
                          [
                            0.7777777777777778,
                            "#fb9f3a"
                          ],
                          [
                            0.8888888888888888,
                            "#fdca26"
                          ],
                          [
                            1,
                            "#f0f921"
                          ]
                        ],
                        "type": "surface"
                      }
                    ],
                    "table": [
                      {
                        "cells": {
                          "fill": {
                            "color": "#EBF0F8"
                          },
                          "line": {
                            "color": "white"
                          }
                        },
                        "header": {
                          "fill": {
                            "color": "#C8D4E3"
                          },
                          "line": {
                            "color": "white"
                          }
                        },
                        "type": "table"
                      }
                    ]
                  },
                  "layout": {
                    "annotationdefaults": {
                      "arrowcolor": "#2a3f5f",
                      "arrowhead": 0,
                      "arrowwidth": 1
                    },
                    "autotypenumbers": "strict",
                    "coloraxis": {
                      "colorbar": {
                        "outlinewidth": 0,
                        "ticks": ""
                      }
                    },
                    "colorscale": {
                      "diverging": [
                        [
                          0,
                          "#8e0152"
                        ],
                        [
                          0.1,
                          "#c51b7d"
                        ],
                        [
                          0.2,
                          "#de77ae"
                        ],
                        [
                          0.3,
                          "#f1b6da"
                        ],
                        [
                          0.4,
                          "#fde0ef"
                        ],
                        [
                          0.5,
                          "#f7f7f7"
                        ],
                        [
                          0.6,
                          "#e6f5d0"
                        ],
                        [
                          0.7,
                          "#b8e186"
                        ],
                        [
                          0.8,
                          "#7fbc41"
                        ],
                        [
                          0.9,
                          "#4d9221"
                        ],
                        [
                          1,
                          "#276419"
                        ]
                      ],
                      "sequential": [
                        [
                          0,
                          "#0d0887"
                        ],
                        [
                          0.1111111111111111,
                          "#46039f"
                        ],
                        [
                          0.2222222222222222,
                          "#7201a8"
                        ],
                        [
                          0.3333333333333333,
                          "#9c179e"
                        ],
                        [
                          0.4444444444444444,
                          "#bd3786"
                        ],
                        [
                          0.5555555555555556,
                          "#d8576b"
                        ],
                        [
                          0.6666666666666666,
                          "#ed7953"
                        ],
                        [
                          0.7777777777777778,
                          "#fb9f3a"
                        ],
                        [
                          0.8888888888888888,
                          "#fdca26"
                        ],
                        [
                          1,
                          "#f0f921"
                        ]
                      ],
                      "sequentialminus": [
                        [
                          0,
                          "#0d0887"
                        ],
                        [
                          0.1111111111111111,
                          "#46039f"
                        ],
                        [
                          0.2222222222222222,
                          "#7201a8"
                        ],
                        [
                          0.3333333333333333,
                          "#9c179e"
                        ],
                        [
                          0.4444444444444444,
                          "#bd3786"
                        ],
                        [
                          0.5555555555555556,
                          "#d8576b"
                        ],
                        [
                          0.6666666666666666,
                          "#ed7953"
                        ],
                        [
                          0.7777777777777778,
                          "#fb9f3a"
                        ],
                        [
                          0.8888888888888888,
                          "#fdca26"
                        ],
                        [
                          1,
                          "#f0f921"
                        ]
                      ]
                    },
                    "colorway": [
                      "#636efa",
                      "#EF553B",
                      "#00cc96",
                      "#ab63fa",
                      "#FFA15A",
                      "#19d3f3",
                      "#FF6692",
                      "#B6E880",
                      "#FF97FF",
                      "#FECB52"
                    ],
                    "font": {
                      "color": "#2a3f5f"
                    },
                    "geo": {
                      "bgcolor": "white",
                      "lakecolor": "white",
                      "landcolor": "#E5ECF6",
                      "showlakes": true,
                      "showland": true,
                      "subunitcolor": "white"
                    },
                    "hoverlabel": {
                      "align": "left"
                    },
                    "hovermode": "closest",
                    "mapbox": {
                      "style": "light"
                    },
                    "paper_bgcolor": "white",
                    "plot_bgcolor": "#E5ECF6",
                    "polar": {
                      "angularaxis": {
                        "gridcolor": "white",
                        "linecolor": "white",
                        "ticks": ""
                      },
                      "bgcolor": "#E5ECF6",
                      "radialaxis": {
                        "gridcolor": "white",
                        "linecolor": "white",
                        "ticks": ""
                      }
                    },
                    "scene": {
                      "xaxis": {
                        "backgroundcolor": "#E5ECF6",
                        "gridcolor": "white",
                        "gridwidth": 2,
                        "linecolor": "white",
                        "showbackground": true,
                        "ticks": "",
                        "zerolinecolor": "white"
                      },
                      "yaxis": {
                        "backgroundcolor": "#E5ECF6",
                        "gridcolor": "white",
                        "gridwidth": 2,
                        "linecolor": "white",
                        "showbackground": true,
                        "ticks": "",
                        "zerolinecolor": "white"
                      },
                      "zaxis": {
                        "backgroundcolor": "#E5ECF6",
                        "gridcolor": "white",
                        "gridwidth": 2,
                        "linecolor": "white",
                        "showbackground": true,
                        "ticks": "",
                        "zerolinecolor": "white"
                      }
                    },
                    "shapedefaults": {
                      "line": {
                        "color": "#2a3f5f"
                      }
                    },
                    "ternary": {
                      "aaxis": {
                        "gridcolor": "white",
                        "linecolor": "white",
                        "ticks": ""
                      },
                      "baxis": {
                        "gridcolor": "white",
                        "linecolor": "white",
                        "ticks": ""
                      },
                      "bgcolor": "#E5ECF6",
                      "caxis": {
                        "gridcolor": "white",
                        "linecolor": "white",
                        "ticks": ""
                      }
                    },
                    "title": {
                      "x": 0.05
                    },
                    "xaxis": {
                      "automargin": true,
                      "gridcolor": "white",
                      "linecolor": "white",
                      "ticks": "",
                      "title": {
                        "standoff": 15
                      },
                      "zerolinecolor": "white",
                      "zerolinewidth": 2
                    },
                    "yaxis": {
                      "automargin": true,
                      "gridcolor": "white",
                      "linecolor": "white",
                      "ticks": "",
                      "title": {
                        "standoff": 15
                      },
                      "zerolinecolor": "white",
                      "zerolinewidth": 2
                    }
                  }
                }
              }
            }
          },
          "metadata": {},
          "output_type": "display_data"
        }
      ],
      "source": [
        "# visualize the NCA algorithm\n",
        "nca_metric_learning_model_viz = NCA(max_iter=500, n_components=3, random_state=42)\n",
        "nca_metric_learning_model_viz.fit(compositions_subset, labels_subset)\n",
        "nca_transformed_data_3D = nca_metric_learning_model_viz.transform(compositions_subset)\n",
        "fig_3d = px.scatter_3d(nca_transformed_data_3D, x=0, y=1, z=2, color=labels_subset)\n",
        "fig_3d.update_traces(marker_size=2)"
      ]
    },
    {
      "cell_type": "code",
      "execution_count": 23,
      "metadata": {},
      "outputs": [
        {
          "data": {
            "application/vnd.plotly.v1+json": {
              "config": {
                "plotlyServerURL": "https://plot.ly"
              },
              "data": [
                {
                  "hovertemplate": "color=person_06<br>0=%{x}<br>1=%{y}<br>2=%{z}<extra></extra>",
                  "legendgroup": "person_06",
                  "marker": {
                    "color": "#636efa",
                    "size": 2,
                    "symbol": "circle"
                  },
                  "mode": "markers",
                  "name": "person_06",
                  "scene": "scene",
                  "showlegend": true,
                  "type": "scatter3d",
                  "x": [
                    0.37672351574919816,
                    3.18955462780122,
                    1.9268468786821726,
                    2.2615793727103215,
                    1.648006582718938,
                    3.3161266501763653,
                    2.69079162472014,
                    3.0212522261428925,
                    2.4026627791652277,
                    2.837255221466754,
                    3.107282647803709,
                    1.6032815184506592,
                    2.4131401429187287,
                    1.9999065998347914,
                    2.78457331616229,
                    2.8687251217236405,
                    3.184173609169418,
                    2.7840804677353512,
                    2.9455828282914474,
                    2.215667170099403,
                    2.2774094713147397,
                    2.5093573507619564,
                    3.1122545767577767,
                    2.5483522363843782,
                    2.865833129845481,
                    3.3612204408765587,
                    3.122311055785535,
                    2.7257604447540547,
                    2.54626499204387,
                    2.836983146812298,
                    2.6067199618056875,
                    2.8556023313131624,
                    2.5333292793926367,
                    1.990071202483949,
                    3.337670076851241,
                    1.5545029178487502,
                    2.9684436606599505,
                    2.8798301745918256,
                    2.1416237484474614
                  ],
                  "y": [
                    13.720586896407132,
                    10.69762891695991,
                    11.425570119573115,
                    11.542528196280745,
                    10.709136222297154,
                    10.843301904117347,
                    12.256693565459175,
                    10.930036543600593,
                    12.17023745118017,
                    11.424310594258607,
                    11.305103368979756,
                    10.689004342730307,
                    10.917108672778664,
                    11.26820760933885,
                    11.285663454590052,
                    11.282286486682567,
                    11.250693675619559,
                    11.564444093238682,
                    11.395996248622588,
                    11.989956352011239,
                    11.74636584750213,
                    12.698043949599494,
                    11.184196980056726,
                    12.095271018573518,
                    11.09788891408485,
                    10.41934032399436,
                    11.246611183731364,
                    11.729681888983013,
                    11.324627271471671,
                    11.561459791090478,
                    11.81752795380931,
                    5.9344621666291,
                    9.886697409243967,
                    11.81238707467528,
                    10.816970356916663,
                    10.674195260958326,
                    11.471677636414594,
                    11.087497659245223,
                    10.899832594808451
                  ],
                  "z": [
                    -2.3642259534368524,
                    -2.1287587209910943,
                    -1.2638585613698456,
                    -1.1161390062237997,
                    -0.7309523737503714,
                    -2.480734674783653,
                    -1.1776802925704146,
                    -1.6230795780660872,
                    -1.616032542908946,
                    -1.8083765920246844,
                    -1.7891721933683138,
                    -0.9556555049318023,
                    -0.34372992466918806,
                    -0.8203823964701809,
                    -1.3796337176071656,
                    -1.743094261105277,
                    -1.8732638293879074,
                    -1.584666532620775,
                    -1.8656122313187438,
                    -1.2964569738010239,
                    -1.2696984129640336,
                    -1.0390204403724286,
                    -1.8898894591658522,
                    -0.8340495309544398,
                    -1.8737013504884927,
                    -1.4851770463507918,
                    -1.9701426003701972,
                    -1.5782697196044104,
                    -1.1864822188539343,
                    -1.1406574343853997,
                    -1.5947892236346148,
                    -2.310714910883575,
                    -1.9342664202150555,
                    -1.5058222442260694,
                    -2.187894925596259,
                    -0.9594378153354657,
                    -1.6472889382986757,
                    -2.1054471993913575,
                    -0.5860398227826713
                  ]
                },
                {
                  "hovertemplate": "color=person_04<br>0=%{x}<br>1=%{y}<br>2=%{z}<extra></extra>",
                  "legendgroup": "person_04",
                  "marker": {
                    "color": "#EF553B",
                    "size": 2,
                    "symbol": "circle"
                  },
                  "mode": "markers",
                  "name": "person_04",
                  "scene": "scene",
                  "showlegend": true,
                  "type": "scatter3d",
                  "x": [
                    -0.1527171269161527,
                    -0.4703369391221659,
                    0.015718455830534772,
                    0.019539205000266957,
                    3.113202021187698,
                    1.2802780966532779,
                    0.8507536056991556,
                    4.9935204974487,
                    3.4657018721130672,
                    0.5596233651716958,
                    -0.5632720541945934,
                    -0.45880651425682817,
                    0.5157186869955663,
                    4.405532257869777,
                    2.8090897684271248,
                    0.05640353647817342,
                    1.072372602759812,
                    0.20366880401821585,
                    1.7043131361587576,
                    1.423670657082642,
                    1.720908167432198,
                    0.870413427704917,
                    0.40372093695914507,
                    7.828347584763896,
                    1.125020281284765,
                    1.7922575216475165,
                    0.37523059313343365,
                    0.011357486303828379,
                    -0.245839001083623,
                    1.9171023290032219,
                    0.9672369891490159,
                    0.7876912723445506,
                    0.3714145186580684,
                    4.5904560127206295,
                    3.446631124014801,
                    1.1841849844108556,
                    -0.10745596921655062,
                    1.7495025582658341,
                    2.7744489870882614
                  ],
                  "y": [
                    -0.9883955409463505,
                    0.39512754840349285,
                    -2.7908544162203492,
                    -1.6603820614481528,
                    -8.247708801018128,
                    -1.8101007357675494,
                    0.44621197903257415,
                    -12.391837721114811,
                    -9.220080198191198,
                    -1.2090850642910471,
                    -1.4462743344664233,
                    -1.154354886135951,
                    -1.4097976216601407,
                    -11.630024621226317,
                    -7.59954798496463,
                    -1.7728940559028907,
                    -2.9258007011600013,
                    -1.590228109648635,
                    -5.1985751676779355,
                    -4.639544277331041,
                    -4.3931901634988995,
                    -2.421499335756324,
                    -3.052646279652908,
                    -12.195500143640327,
                    -4.576992218923325,
                    -5.185284991426565,
                    -3.570169030703509,
                    -2.1565545295910997,
                    -1.2266584731937042,
                    -5.484742428089049,
                    -2.882593868462791,
                    -3.4529472405995794,
                    -2.3508487828769216,
                    -14.853549653959925,
                    -9.102288999175647,
                    -2.0099589034553658,
                    -0.008563752930106888,
                    -4.592757617193905,
                    -9.418562902593797
                  ],
                  "z": [
                    8.003958531020244,
                    7.524329352741249,
                    8.402467573813604,
                    8.461982319111259,
                    7.430194487142689,
                    7.188987181272795,
                    7.228839114307803,
                    6.512616359497967,
                    7.635593951026068,
                    7.204452197072211,
                    8.416801322615818,
                    8.488043805022986,
                    7.517940341536155,
                    7.795438747865187,
                    7.328349632309615,
                    8.600469327510037,
                    7.15756983035667,
                    8.26322357889632,
                    7.541480161231613,
                    7.481288534790352,
                    6.915055011534097,
                    6.776406074793,
                    8.019516054084763,
                    -2.584243698038053,
                    8.140814848199211,
                    7.555753136251445,
                    8.51141006470111,
                    8.181332198893084,
                    4.03492626443555,
                    7.4520237067944475,
                    7.2112752268868325,
                    7.779092677461517,
                    7.654595805754011,
                    2.652864670330682,
                    7.589126830699662,
                    6.920161520551679,
                    6.968518602996728,
                    7.406804642734048,
                    7.820370597485411
                  ]
                },
                {
                  "hovertemplate": "color=person_01<br>0=%{x}<br>1=%{y}<br>2=%{z}<extra></extra>",
                  "legendgroup": "person_01",
                  "marker": {
                    "color": "#00cc96",
                    "size": 2,
                    "symbol": "circle"
                  },
                  "mode": "markers",
                  "name": "person_01",
                  "scene": "scene",
                  "showlegend": true,
                  "type": "scatter3d",
                  "x": [
                    -1.0812680644298196,
                    -2.1005937141412843,
                    -2.2217102372173727,
                    -2.0673707177162166,
                    -2.221615903456895,
                    -2.1926440842814308,
                    -1.6034281539293453,
                    -1.7545013499532405,
                    0.019825592748715003,
                    -3.1363497153325732,
                    -3.0679211921968843,
                    -2.3629141784110272,
                    -2.525155684892461,
                    -2.1069028158532057,
                    -1.7100013889185615,
                    -2.8323556660467135,
                    -2.0681456260201685,
                    -2.887918290904039,
                    -2.6973532347567213,
                    -1.6178047898482693,
                    -2.8768573579755516,
                    -2.8262176840554094,
                    -3.106233770414305,
                    -3.0657968668238613,
                    -0.8325881388842902,
                    -3.2408161026747386,
                    -1.490935101860618,
                    -2.124711711936499,
                    -0.846640238245316,
                    -3.4119458293617573,
                    -0.28376459654432384,
                    -2.050643596576249,
                    0.2796086864403651,
                    -2.2632924119477593,
                    -2.0559123176182164,
                    -2.1357318884200573,
                    -2.537492626322072,
                    -2.0427477770192786,
                    -1.5968002537573591,
                    -2.0305786001227575,
                    -2.6465964686016057
                  ],
                  "y": [
                    1.0587591908005947,
                    4.426699697302251,
                    4.096850581543315,
                    5.069411144878762,
                    4.620956676035002,
                    4.512730914127005,
                    4.047438348595145,
                    5.533168509808418,
                    2.2643333545452418,
                    7.290799127991984,
                    5.958696593164763,
                    3.679792884354172,
                    4.608853072597398,
                    5.2894939416204485,
                    3.0409928009436102,
                    6.7804933875876525,
                    4.345496888726515,
                    6.457427243330207,
                    4.927472767271529,
                    3.522423806808965,
                    4.294401886606595,
                    6.061818998088324,
                    6.672304628341281,
                    5.527119184150891,
                    1.4180240689853818,
                    5.684269927382273,
                    2.462039041391535,
                    4.89676860676099,
                    1.8626537082568495,
                    7.106773320927125,
                    2.349930505522167,
                    5.026653560600414,
                    -0.06301724036191558,
                    2.6390804828107073,
                    6.143586589125888,
                    4.383058327195005,
                    3.989711009129284,
                    5.087117149764081,
                    4.159940587951,
                    4.704492568410336,
                    4.774329200340048
                  ],
                  "z": [
                    -4.446561482992626,
                    -4.825874514507722,
                    -4.592321825826206,
                    -5.38025981348267,
                    -4.788174958221142,
                    -5.047436511657242,
                    -5.348907757891206,
                    -5.316593189976916,
                    -4.580847294133836,
                    -4.22730508999092,
                    -3.7225110090906224,
                    -5.152886968235995,
                    -4.121360553410648,
                    -5.511148482262588,
                    -5.4480020790512835,
                    -3.852433395516613,
                    -5.019551790871333,
                    -3.9433044342569463,
                    -3.6984355891740623,
                    -5.436582577444341,
                    -3.710331438575132,
                    -3.9462864125294175,
                    -4.204642205585215,
                    -3.7513201467881716,
                    -5.16432296838617,
                    -3.8576803135179167,
                    -4.447240108065749,
                    -5.533298172827553,
                    -5.179487926368402,
                    -4.5333411374164045,
                    -4.769282992249857,
                    -5.337063657197141,
                    -4.856484488803828,
                    -4.063341699467801,
                    -5.358626685366678,
                    -5.10748260904923,
                    -4.164371904576271,
                    -5.66171007962576,
                    -5.487670694588091,
                    -5.651917546584257,
                    -3.889358569680816
                  ]
                },
                {
                  "hovertemplate": "color=person_05<br>0=%{x}<br>1=%{y}<br>2=%{z}<extra></extra>",
                  "legendgroup": "person_05",
                  "marker": {
                    "color": "#ab63fa",
                    "size": 2,
                    "symbol": "circle"
                  },
                  "mode": "markers",
                  "name": "person_05",
                  "scene": "scene",
                  "showlegend": true,
                  "type": "scatter3d",
                  "x": [
                    -2.822558920452102,
                    -3.821456969871641,
                    -3.1007582862336953,
                    -4.409223202608429,
                    -5.135908501349819,
                    -4.138587181509381,
                    -2.32353531728265,
                    3.6108035064978257,
                    -3.347834709382213,
                    -3.702169279440501,
                    -4.015249337119343,
                    -3.591999554980049,
                    -4.15756707853676,
                    -4.017064269510797,
                    -3.317980669893789,
                    -3.2539150073050127,
                    -3.0420365724710634,
                    -3.264639672301815,
                    -3.274812677104932,
                    -2.977748470177045,
                    -5.2218487886721014,
                    -3.9400414878179983,
                    -3.8548645589841777,
                    -1.780705922309447,
                    -3.3764596241869773,
                    -3.4083399874787372,
                    -3.6958908448346297,
                    -3.6478726720954553,
                    -5.240259378190936,
                    -3.4875307430378797,
                    -3.3230246398152063,
                    -5.666243605768088,
                    -3.644510042131288,
                    -4.105008724384305
                  ],
                  "y": [
                    -8.39202029312938,
                    -5.47979896724598,
                    -8.237756886130121,
                    -8.099542878240605,
                    -7.662564379673581,
                    -6.15029670331948,
                    -11.691564319527078,
                    -16.474214651692048,
                    -8.805499175121643,
                    -5.320902036950673,
                    -6.429818410052054,
                    -7.619508749180582,
                    -6.561497965622291,
                    -8.719913669434103,
                    -7.385001691674274,
                    -7.523814998518354,
                    -8.56697352069725,
                    -8.337797378454095,
                    -9.180876114236,
                    -8.991146353274548,
                    -8.590494194962256,
                    -8.314941054083269,
                    -6.610785544922322,
                    -5.114085148441192,
                    -6.931984130299578,
                    -8.527687355243101,
                    -8.688930209141104,
                    -8.462821830079886,
                    -8.179366647792573,
                    -7.511728402950995,
                    -8.740944034680076,
                    -8.809203262852503,
                    -8.101113015500628,
                    -8.245527559983998
                  ],
                  "z": [
                    -2.084606948381305,
                    -1.1535921292960272,
                    -0.8744614488836979,
                    -0.9917658003440091,
                    -1.1240154152900432,
                    -1.261141085632243,
                    -1.1954388903579414,
                    -1.321794441055243,
                    -1.0407932638934962,
                    -0.9292912644276674,
                    -1.1268789281805494,
                    -1.580511610315242,
                    -1.0200962144000005,
                    -0.8546640147842646,
                    -2.253145266693518,
                    -1.971009254693653,
                    -1.5724010743813617,
                    -1.5935506805328177,
                    -1.0125833911492625,
                    -0.7239142171714796,
                    -1.1450883239053766,
                    -0.6906812068200843,
                    -1.0676821594811736,
                    -2.3833595872933904,
                    -1.7282490433836029,
                    -1.271603952789497,
                    -0.7975634916169912,
                    -0.6497275492655967,
                    -0.13721424714122854,
                    -1.698415907535237,
                    -0.9947920582382324,
                    -1.1641187593525864,
                    -1.3305935801987794,
                    -0.6960982193732477
                  ]
                },
                {
                  "hovertemplate": "color=person_03<br>0=%{x}<br>1=%{y}<br>2=%{z}<extra></extra>",
                  "legendgroup": "person_03",
                  "marker": {
                    "color": "#FFA15A",
                    "size": 2,
                    "symbol": "circle"
                  },
                  "mode": "markers",
                  "name": "person_03",
                  "scene": "scene",
                  "showlegend": true,
                  "type": "scatter3d",
                  "x": [
                    16.529811798470977,
                    17.253410172187117,
                    17.011514642256465,
                    17.62359869266589,
                    17.224174137096753,
                    16.52610413773369,
                    17.575034447072905,
                    15.755478718574002,
                    16.177197956063498,
                    17.094877162017198,
                    17.65719515198332,
                    15.31835334458546,
                    16.605868671828215,
                    16.656878997051614,
                    15.13387804432919,
                    15.720389194771293,
                    17.531212048333376,
                    10.027806626068852,
                    16.75347019145725,
                    18.210941291839497,
                    16.017989263083248,
                    17.344103819351634,
                    17.837728610021344,
                    15.65005458803154,
                    16.005352657094473,
                    16.915289042015537,
                    17.297901099225,
                    18.134457653637533,
                    16.480824660077914,
                    17.318817322394345,
                    17.442069714799736,
                    16.599443220019857,
                    17.28254843326436,
                    15.778766829259009,
                    16.379691276032577,
                    16.71614455324261,
                    16.60674374697186,
                    15.455263218116253,
                    17.207397800822562
                  ],
                  "y": [
                    -3.446880305046511,
                    -5.541646501421106,
                    -4.663346139537993,
                    -6.413398573168319,
                    -5.315056180944746,
                    -4.0731337130771585,
                    -5.884814256144302,
                    -2.3510395126115116,
                    -3.6308650028936262,
                    -4.8339468774742445,
                    -4.332027328717435,
                    -1.4387679698681008,
                    -3.8256104848757406,
                    -3.968723691129611,
                    -1.4373550159139006,
                    -2.9019023192334252,
                    -5.932116547156968,
                    -14.175225473211686,
                    -3.842887861985032,
                    -4.413778020243203,
                    -0.8131774876313465,
                    -5.285040403120146,
                    -4.342335183731972,
                    -2.0717841146335747,
                    -4.488258489510398,
                    -4.7769643012998895,
                    -5.542480169069558,
                    -6.75631726473452,
                    -4.0679328649422715,
                    -1.8733995381669448,
                    -3.821115814350783,
                    -3.642115898264757,
                    -3.2559713972860767,
                    -2.3921027440526803,
                    -3.6939193915012485,
                    -3.8630367232524434,
                    -3.433078677928942,
                    -1.377762443121453,
                    -3.8983270825236254
                  ],
                  "z": [
                    -4.0635455068730755,
                    -3.679385887320527,
                    -3.839548506723265,
                    -3.818322202209222,
                    -3.7139163960671895,
                    -2.747019972311558,
                    -3.74228822880471,
                    -3.129615750896937,
                    -3.714977609390056,
                    -3.7830494967044554,
                    -4.431297357863568,
                    -3.2801615450501065,
                    -4.1726865099927934,
                    -4.3462950739081645,
                    -3.1782323149359986,
                    -2.975180883029386,
                    -3.8327479238343907,
                    0.018431548580695956,
                    -4.1551843789498,
                    -0.7583227616096515,
                    -2.6541508919953305,
                    -3.6687515182993957,
                    -4.442955686402249,
                    -3.251709572458636,
                    -1.9575903852963532,
                    -3.4414876984247256,
                    -3.709216137991093,
                    -3.85310917175038,
                    -3.83724105719949,
                    -3.002332756553736,
                    -4.399684506935429,
                    -4.166379616706951,
                    -2.13643329271909,
                    -2.7078247842687224,
                    -4.194832285325528,
                    -3.8778855792044364,
                    -4.018184767224011,
                    -3.0854285599352402,
                    -2.410966591463696
                  ]
                },
                {
                  "hovertemplate": "color=person_02<br>0=%{x}<br>1=%{y}<br>2=%{z}<extra></extra>",
                  "legendgroup": "person_02",
                  "marker": {
                    "color": "#19d3f3",
                    "size": 2,
                    "symbol": "circle"
                  },
                  "mode": "markers",
                  "name": "person_02",
                  "scene": "scene",
                  "showlegend": true,
                  "type": "scatter3d",
                  "x": [
                    -0.5440645981173802,
                    -0.8452554338818601,
                    -3.0051675959891284,
                    -2.132521337597035,
                    -1.0347792328699565,
                    -0.9488683060174141,
                    -0.2415106975250918,
                    -1.5469150693968716,
                    -2.5981561938236184,
                    -1.0830800722895868,
                    -3.4719282125931574,
                    -3.167187823497484,
                    -3.175760285154551,
                    -3.526138312141526,
                    -2.468392299358565,
                    -1.7725686162357404,
                    -3.3937568430999248,
                    9.887827783771842,
                    -2.4047122128761065,
                    -2.4623205317283965,
                    -2.8476970371154056,
                    -5.44766743946884,
                    -1.2941676614340167,
                    -1.1433894353318168,
                    -0.2601552055521823,
                    -1.8507960141554065,
                    -1.4010719205822761,
                    -1.478741157784731,
                    -1.287073413890793,
                    2.389763121872976,
                    -3.587962022291139,
                    -3.266004255484339,
                    -3.3897181985957348,
                    1.6621494353150825,
                    -2.6150605326458174,
                    1.1199182184361014,
                    0.8902231356698156,
                    -1.1631486395204074,
                    -1.9311198282170938,
                    -3.5533917762984704
                  ],
                  "y": [
                    -9.759422035095351,
                    -9.061050572586865,
                    -6.23180927528429,
                    -6.800187270270023,
                    -8.629771597005576,
                    -9.021232077420365,
                    -7.437583710476796,
                    -7.478799979038519,
                    -5.316157909009377,
                    -5.957136533752804,
                    -4.828345419046156,
                    -2.9493417779076587,
                    -3.220173806622752,
                    -2.8237127950590035,
                    -5.249594928688098,
                    -7.714201148301536,
                    -3.864400179591712,
                    -13.696777048980412,
                    -4.985766242500935,
                    -4.627288093579705,
                    -3.872520707302698,
                    -0.012834455318494836,
                    -7.762567247113855,
                    -8.67395434646527,
                    -9.32021150481136,
                    -7.353851933800684,
                    -6.525822635668464,
                    -5.660913287938755,
                    -6.7221150413737,
                    -17.6227290684975,
                    -4.721082883158356,
                    -2.7292435652235474,
                    -3.8681759570771086,
                    -12.477902110591135,
                    -5.51120848246022,
                    -12.261303270038885,
                    -26.36689769040182,
                    -8.68769906275676,
                    -5.665710384960647,
                    -3.8649594691837343
                  ],
                  "z": [
                    -6.941565740870212,
                    -6.9396602010210895,
                    -5.796690988990436,
                    -7.152714353209749,
                    -6.732905924037954,
                    -6.802511172350451,
                    -5.050496278510948,
                    -5.8270988104087476,
                    -6.349368810755067,
                    -5.484403831129557,
                    -5.883959691459512,
                    -6.617013741376683,
                    -6.764192323037616,
                    -6.765002686675597,
                    -6.73906613327454,
                    -6.972071360250493,
                    -6.40594794803383,
                    1.7919125225269572,
                    -6.553399768198124,
                    -7.69572177227489,
                    -6.933683881310167,
                    -9.200542908369787,
                    -6.942719594910801,
                    -6.224341262202829,
                    -5.627510769714062,
                    -5.898284127322153,
                    -7.433937026559284,
                    -7.741450015275513,
                    -6.032714019549072,
                    -6.336169729273431,
                    -7.676184098471577,
                    -6.743303518523283,
                    -6.313487566679655,
                    -7.355359019964902,
                    -5.398952049823873,
                    -7.157134398874159,
                    -2.7359072468031957,
                    -6.396062202359076,
                    -7.652747094760058,
                    -6.223248145510235
                  ]
                }
              ],
              "layout": {
                "legend": {
                  "title": {
                    "text": "color"
                  },
                  "tracegroupgap": 0
                },
                "margin": {
                  "t": 60
                },
                "plot_bgcolor": "#FFFFFF",
                "scene": {
                  "domain": {
                    "x": [
                      0,
                      1
                    ],
                    "y": [
                      0,
                      1
                    ]
                  },
                  "xaxis": {
                    "title": {
                      "text": "0"
                    }
                  },
                  "yaxis": {
                    "title": {
                      "text": "1"
                    }
                  },
                  "zaxis": {
                    "title": {
                      "text": "2"
                    }
                  }
                },
                "template": {
                  "data": {
                    "bar": [
                      {
                        "error_x": {
                          "color": "#2a3f5f"
                        },
                        "error_y": {
                          "color": "#2a3f5f"
                        },
                        "marker": {
                          "line": {
                            "color": "#E5ECF6",
                            "width": 0.5
                          },
                          "pattern": {
                            "fillmode": "overlay",
                            "size": 10,
                            "solidity": 0.2
                          }
                        },
                        "type": "bar"
                      }
                    ],
                    "barpolar": [
                      {
                        "marker": {
                          "line": {
                            "color": "#E5ECF6",
                            "width": 0.5
                          },
                          "pattern": {
                            "fillmode": "overlay",
                            "size": 10,
                            "solidity": 0.2
                          }
                        },
                        "type": "barpolar"
                      }
                    ],
                    "carpet": [
                      {
                        "aaxis": {
                          "endlinecolor": "#2a3f5f",
                          "gridcolor": "white",
                          "linecolor": "white",
                          "minorgridcolor": "white",
                          "startlinecolor": "#2a3f5f"
                        },
                        "baxis": {
                          "endlinecolor": "#2a3f5f",
                          "gridcolor": "white",
                          "linecolor": "white",
                          "minorgridcolor": "white",
                          "startlinecolor": "#2a3f5f"
                        },
                        "type": "carpet"
                      }
                    ],
                    "choropleth": [
                      {
                        "colorbar": {
                          "outlinewidth": 0,
                          "ticks": ""
                        },
                        "type": "choropleth"
                      }
                    ],
                    "contour": [
                      {
                        "colorbar": {
                          "outlinewidth": 0,
                          "ticks": ""
                        },
                        "colorscale": [
                          [
                            0,
                            "#0d0887"
                          ],
                          [
                            0.1111111111111111,
                            "#46039f"
                          ],
                          [
                            0.2222222222222222,
                            "#7201a8"
                          ],
                          [
                            0.3333333333333333,
                            "#9c179e"
                          ],
                          [
                            0.4444444444444444,
                            "#bd3786"
                          ],
                          [
                            0.5555555555555556,
                            "#d8576b"
                          ],
                          [
                            0.6666666666666666,
                            "#ed7953"
                          ],
                          [
                            0.7777777777777778,
                            "#fb9f3a"
                          ],
                          [
                            0.8888888888888888,
                            "#fdca26"
                          ],
                          [
                            1,
                            "#f0f921"
                          ]
                        ],
                        "type": "contour"
                      }
                    ],
                    "contourcarpet": [
                      {
                        "colorbar": {
                          "outlinewidth": 0,
                          "ticks": ""
                        },
                        "type": "contourcarpet"
                      }
                    ],
                    "heatmap": [
                      {
                        "colorbar": {
                          "outlinewidth": 0,
                          "ticks": ""
                        },
                        "colorscale": [
                          [
                            0,
                            "#0d0887"
                          ],
                          [
                            0.1111111111111111,
                            "#46039f"
                          ],
                          [
                            0.2222222222222222,
                            "#7201a8"
                          ],
                          [
                            0.3333333333333333,
                            "#9c179e"
                          ],
                          [
                            0.4444444444444444,
                            "#bd3786"
                          ],
                          [
                            0.5555555555555556,
                            "#d8576b"
                          ],
                          [
                            0.6666666666666666,
                            "#ed7953"
                          ],
                          [
                            0.7777777777777778,
                            "#fb9f3a"
                          ],
                          [
                            0.8888888888888888,
                            "#fdca26"
                          ],
                          [
                            1,
                            "#f0f921"
                          ]
                        ],
                        "type": "heatmap"
                      }
                    ],
                    "heatmapgl": [
                      {
                        "colorbar": {
                          "outlinewidth": 0,
                          "ticks": ""
                        },
                        "colorscale": [
                          [
                            0,
                            "#0d0887"
                          ],
                          [
                            0.1111111111111111,
                            "#46039f"
                          ],
                          [
                            0.2222222222222222,
                            "#7201a8"
                          ],
                          [
                            0.3333333333333333,
                            "#9c179e"
                          ],
                          [
                            0.4444444444444444,
                            "#bd3786"
                          ],
                          [
                            0.5555555555555556,
                            "#d8576b"
                          ],
                          [
                            0.6666666666666666,
                            "#ed7953"
                          ],
                          [
                            0.7777777777777778,
                            "#fb9f3a"
                          ],
                          [
                            0.8888888888888888,
                            "#fdca26"
                          ],
                          [
                            1,
                            "#f0f921"
                          ]
                        ],
                        "type": "heatmapgl"
                      }
                    ],
                    "histogram": [
                      {
                        "marker": {
                          "pattern": {
                            "fillmode": "overlay",
                            "size": 10,
                            "solidity": 0.2
                          }
                        },
                        "type": "histogram"
                      }
                    ],
                    "histogram2d": [
                      {
                        "colorbar": {
                          "outlinewidth": 0,
                          "ticks": ""
                        },
                        "colorscale": [
                          [
                            0,
                            "#0d0887"
                          ],
                          [
                            0.1111111111111111,
                            "#46039f"
                          ],
                          [
                            0.2222222222222222,
                            "#7201a8"
                          ],
                          [
                            0.3333333333333333,
                            "#9c179e"
                          ],
                          [
                            0.4444444444444444,
                            "#bd3786"
                          ],
                          [
                            0.5555555555555556,
                            "#d8576b"
                          ],
                          [
                            0.6666666666666666,
                            "#ed7953"
                          ],
                          [
                            0.7777777777777778,
                            "#fb9f3a"
                          ],
                          [
                            0.8888888888888888,
                            "#fdca26"
                          ],
                          [
                            1,
                            "#f0f921"
                          ]
                        ],
                        "type": "histogram2d"
                      }
                    ],
                    "histogram2dcontour": [
                      {
                        "colorbar": {
                          "outlinewidth": 0,
                          "ticks": ""
                        },
                        "colorscale": [
                          [
                            0,
                            "#0d0887"
                          ],
                          [
                            0.1111111111111111,
                            "#46039f"
                          ],
                          [
                            0.2222222222222222,
                            "#7201a8"
                          ],
                          [
                            0.3333333333333333,
                            "#9c179e"
                          ],
                          [
                            0.4444444444444444,
                            "#bd3786"
                          ],
                          [
                            0.5555555555555556,
                            "#d8576b"
                          ],
                          [
                            0.6666666666666666,
                            "#ed7953"
                          ],
                          [
                            0.7777777777777778,
                            "#fb9f3a"
                          ],
                          [
                            0.8888888888888888,
                            "#fdca26"
                          ],
                          [
                            1,
                            "#f0f921"
                          ]
                        ],
                        "type": "histogram2dcontour"
                      }
                    ],
                    "mesh3d": [
                      {
                        "colorbar": {
                          "outlinewidth": 0,
                          "ticks": ""
                        },
                        "type": "mesh3d"
                      }
                    ],
                    "parcoords": [
                      {
                        "line": {
                          "colorbar": {
                            "outlinewidth": 0,
                            "ticks": ""
                          }
                        },
                        "type": "parcoords"
                      }
                    ],
                    "pie": [
                      {
                        "automargin": true,
                        "type": "pie"
                      }
                    ],
                    "scatter": [
                      {
                        "marker": {
                          "colorbar": {
                            "outlinewidth": 0,
                            "ticks": ""
                          }
                        },
                        "type": "scatter"
                      }
                    ],
                    "scatter3d": [
                      {
                        "line": {
                          "colorbar": {
                            "outlinewidth": 0,
                            "ticks": ""
                          }
                        },
                        "marker": {
                          "colorbar": {
                            "outlinewidth": 0,
                            "ticks": ""
                          }
                        },
                        "type": "scatter3d"
                      }
                    ],
                    "scattercarpet": [
                      {
                        "marker": {
                          "colorbar": {
                            "outlinewidth": 0,
                            "ticks": ""
                          }
                        },
                        "type": "scattercarpet"
                      }
                    ],
                    "scattergeo": [
                      {
                        "marker": {
                          "colorbar": {
                            "outlinewidth": 0,
                            "ticks": ""
                          }
                        },
                        "type": "scattergeo"
                      }
                    ],
                    "scattergl": [
                      {
                        "marker": {
                          "colorbar": {
                            "outlinewidth": 0,
                            "ticks": ""
                          }
                        },
                        "type": "scattergl"
                      }
                    ],
                    "scattermapbox": [
                      {
                        "marker": {
                          "colorbar": {
                            "outlinewidth": 0,
                            "ticks": ""
                          }
                        },
                        "type": "scattermapbox"
                      }
                    ],
                    "scatterpolar": [
                      {
                        "marker": {
                          "colorbar": {
                            "outlinewidth": 0,
                            "ticks": ""
                          }
                        },
                        "type": "scatterpolar"
                      }
                    ],
                    "scatterpolargl": [
                      {
                        "marker": {
                          "colorbar": {
                            "outlinewidth": 0,
                            "ticks": ""
                          }
                        },
                        "type": "scatterpolargl"
                      }
                    ],
                    "scatterternary": [
                      {
                        "marker": {
                          "colorbar": {
                            "outlinewidth": 0,
                            "ticks": ""
                          }
                        },
                        "type": "scatterternary"
                      }
                    ],
                    "surface": [
                      {
                        "colorbar": {
                          "outlinewidth": 0,
                          "ticks": ""
                        },
                        "colorscale": [
                          [
                            0,
                            "#0d0887"
                          ],
                          [
                            0.1111111111111111,
                            "#46039f"
                          ],
                          [
                            0.2222222222222222,
                            "#7201a8"
                          ],
                          [
                            0.3333333333333333,
                            "#9c179e"
                          ],
                          [
                            0.4444444444444444,
                            "#bd3786"
                          ],
                          [
                            0.5555555555555556,
                            "#d8576b"
                          ],
                          [
                            0.6666666666666666,
                            "#ed7953"
                          ],
                          [
                            0.7777777777777778,
                            "#fb9f3a"
                          ],
                          [
                            0.8888888888888888,
                            "#fdca26"
                          ],
                          [
                            1,
                            "#f0f921"
                          ]
                        ],
                        "type": "surface"
                      }
                    ],
                    "table": [
                      {
                        "cells": {
                          "fill": {
                            "color": "#EBF0F8"
                          },
                          "line": {
                            "color": "white"
                          }
                        },
                        "header": {
                          "fill": {
                            "color": "#C8D4E3"
                          },
                          "line": {
                            "color": "white"
                          }
                        },
                        "type": "table"
                      }
                    ]
                  },
                  "layout": {
                    "annotationdefaults": {
                      "arrowcolor": "#2a3f5f",
                      "arrowhead": 0,
                      "arrowwidth": 1
                    },
                    "autotypenumbers": "strict",
                    "coloraxis": {
                      "colorbar": {
                        "outlinewidth": 0,
                        "ticks": ""
                      }
                    },
                    "colorscale": {
                      "diverging": [
                        [
                          0,
                          "#8e0152"
                        ],
                        [
                          0.1,
                          "#c51b7d"
                        ],
                        [
                          0.2,
                          "#de77ae"
                        ],
                        [
                          0.3,
                          "#f1b6da"
                        ],
                        [
                          0.4,
                          "#fde0ef"
                        ],
                        [
                          0.5,
                          "#f7f7f7"
                        ],
                        [
                          0.6,
                          "#e6f5d0"
                        ],
                        [
                          0.7,
                          "#b8e186"
                        ],
                        [
                          0.8,
                          "#7fbc41"
                        ],
                        [
                          0.9,
                          "#4d9221"
                        ],
                        [
                          1,
                          "#276419"
                        ]
                      ],
                      "sequential": [
                        [
                          0,
                          "#0d0887"
                        ],
                        [
                          0.1111111111111111,
                          "#46039f"
                        ],
                        [
                          0.2222222222222222,
                          "#7201a8"
                        ],
                        [
                          0.3333333333333333,
                          "#9c179e"
                        ],
                        [
                          0.4444444444444444,
                          "#bd3786"
                        ],
                        [
                          0.5555555555555556,
                          "#d8576b"
                        ],
                        [
                          0.6666666666666666,
                          "#ed7953"
                        ],
                        [
                          0.7777777777777778,
                          "#fb9f3a"
                        ],
                        [
                          0.8888888888888888,
                          "#fdca26"
                        ],
                        [
                          1,
                          "#f0f921"
                        ]
                      ],
                      "sequentialminus": [
                        [
                          0,
                          "#0d0887"
                        ],
                        [
                          0.1111111111111111,
                          "#46039f"
                        ],
                        [
                          0.2222222222222222,
                          "#7201a8"
                        ],
                        [
                          0.3333333333333333,
                          "#9c179e"
                        ],
                        [
                          0.4444444444444444,
                          "#bd3786"
                        ],
                        [
                          0.5555555555555556,
                          "#d8576b"
                        ],
                        [
                          0.6666666666666666,
                          "#ed7953"
                        ],
                        [
                          0.7777777777777778,
                          "#fb9f3a"
                        ],
                        [
                          0.8888888888888888,
                          "#fdca26"
                        ],
                        [
                          1,
                          "#f0f921"
                        ]
                      ]
                    },
                    "colorway": [
                      "#636efa",
                      "#EF553B",
                      "#00cc96",
                      "#ab63fa",
                      "#FFA15A",
                      "#19d3f3",
                      "#FF6692",
                      "#B6E880",
                      "#FF97FF",
                      "#FECB52"
                    ],
                    "font": {
                      "color": "#2a3f5f"
                    },
                    "geo": {
                      "bgcolor": "white",
                      "lakecolor": "white",
                      "landcolor": "#E5ECF6",
                      "showlakes": true,
                      "showland": true,
                      "subunitcolor": "white"
                    },
                    "hoverlabel": {
                      "align": "left"
                    },
                    "hovermode": "closest",
                    "mapbox": {
                      "style": "light"
                    },
                    "paper_bgcolor": "white",
                    "plot_bgcolor": "#E5ECF6",
                    "polar": {
                      "angularaxis": {
                        "gridcolor": "white",
                        "linecolor": "white",
                        "ticks": ""
                      },
                      "bgcolor": "#E5ECF6",
                      "radialaxis": {
                        "gridcolor": "white",
                        "linecolor": "white",
                        "ticks": ""
                      }
                    },
                    "scene": {
                      "xaxis": {
                        "backgroundcolor": "#E5ECF6",
                        "gridcolor": "white",
                        "gridwidth": 2,
                        "linecolor": "white",
                        "showbackground": true,
                        "ticks": "",
                        "zerolinecolor": "white"
                      },
                      "yaxis": {
                        "backgroundcolor": "#E5ECF6",
                        "gridcolor": "white",
                        "gridwidth": 2,
                        "linecolor": "white",
                        "showbackground": true,
                        "ticks": "",
                        "zerolinecolor": "white"
                      },
                      "zaxis": {
                        "backgroundcolor": "#E5ECF6",
                        "gridcolor": "white",
                        "gridwidth": 2,
                        "linecolor": "white",
                        "showbackground": true,
                        "ticks": "",
                        "zerolinecolor": "white"
                      }
                    },
                    "shapedefaults": {
                      "line": {
                        "color": "#2a3f5f"
                      }
                    },
                    "ternary": {
                      "aaxis": {
                        "gridcolor": "white",
                        "linecolor": "white",
                        "ticks": ""
                      },
                      "baxis": {
                        "gridcolor": "white",
                        "linecolor": "white",
                        "ticks": ""
                      },
                      "bgcolor": "#E5ECF6",
                      "caxis": {
                        "gridcolor": "white",
                        "linecolor": "white",
                        "ticks": ""
                      }
                    },
                    "title": {
                      "x": 0.05
                    },
                    "xaxis": {
                      "automargin": true,
                      "gridcolor": "white",
                      "linecolor": "white",
                      "ticks": "",
                      "title": {
                        "standoff": 15
                      },
                      "zerolinecolor": "white",
                      "zerolinewidth": 2
                    },
                    "yaxis": {
                      "automargin": true,
                      "gridcolor": "white",
                      "linecolor": "white",
                      "ticks": "",
                      "title": {
                        "standoff": 15
                      },
                      "zerolinecolor": "white",
                      "zerolinewidth": 2
                    }
                  }
                }
              }
            }
          },
          "metadata": {},
          "output_type": "display_data"
        }
      ],
      "source": [
        "# visualize the LMNN algorithm (this will take about 10min to run)\n",
        "lmnn_metric_learning_model_viz = LMNN(n_components = 3, k=10, learn_rate=1e-4, random_state=42)\n",
        "lmnn_metric_learning_model_viz.fit(compositions_subset, labels_subset)\n",
        "lmnn_transformed_data_3D = lmnn_metric_learning_model_viz.transform(compositions_subset)\n",
        "fig_3d = px.scatter_3d(lmnn_transformed_data_3D, x=0, y=1, z=2, color=labels_subset)\n",
        "fig_3d.update_traces(marker_size=2)"
      ]
    },
    {
      "cell_type": "code",
      "execution_count": 47,
      "metadata": {},
      "outputs": [
        {
          "data": {
            "application/vnd.plotly.v1+json": {
              "config": {
                "plotlyServerURL": "https://plot.ly"
              },
              "data": [
                {
                  "hovertemplate": "color=person_06<br>0=%{x}<br>1=%{y}<br>2=%{z}<extra></extra>",
                  "legendgroup": "person_06",
                  "marker": {
                    "autocolorscale": true,
                    "color": "#636efa",
                    "colorscale": [
                      [
                        0,
                        "#CCCCCC"
                      ],
                      [
                        0.2,
                        "#F3F3F3"
                      ],
                      [
                        0.4,
                        "#FBC903"
                      ],
                      [
                        0.6,
                        "#D64550"
                      ],
                      [
                        0.8,
                        "#1968AC"
                      ],
                      [
                        1,
                        "#91C499"
                      ]
                    ],
                    "size": 2,
                    "symbol": "circle"
                  },
                  "mode": "markers",
                  "name": "person_06",
                  "scene": "scene",
                  "showlegend": true,
                  "type": "scatter3d",
                  "x": [
                    0.37672351574919816,
                    3.18955462780122,
                    1.9268468786821726,
                    2.2615793727103215,
                    1.648006582718938,
                    3.3161266501763653,
                    2.69079162472014,
                    3.0212522261428925,
                    2.4026627791652277,
                    2.837255221466754,
                    3.107282647803709,
                    1.6032815184506592,
                    2.4131401429187287,
                    1.9999065998347914,
                    2.78457331616229,
                    2.8687251217236405,
                    3.184173609169418,
                    2.7840804677353512,
                    2.9455828282914474,
                    2.215667170099403,
                    2.2774094713147397,
                    2.5093573507619564,
                    3.1122545767577767,
                    2.5483522363843782,
                    2.865833129845481,
                    3.3612204408765587,
                    3.122311055785535,
                    2.7257604447540547,
                    2.54626499204387,
                    2.836983146812298,
                    2.6067199618056875,
                    2.8556023313131624,
                    2.5333292793926367,
                    1.990071202483949,
                    3.337670076851241,
                    1.5545029178487502,
                    2.9684436606599505,
                    2.8798301745918256,
                    2.1416237484474614
                  ],
                  "y": [
                    13.720586896407132,
                    10.69762891695991,
                    11.425570119573115,
                    11.542528196280745,
                    10.709136222297154,
                    10.843301904117347,
                    12.256693565459175,
                    10.930036543600593,
                    12.17023745118017,
                    11.424310594258607,
                    11.305103368979756,
                    10.689004342730307,
                    10.917108672778664,
                    11.26820760933885,
                    11.285663454590052,
                    11.282286486682567,
                    11.250693675619559,
                    11.564444093238682,
                    11.395996248622588,
                    11.989956352011239,
                    11.74636584750213,
                    12.698043949599494,
                    11.184196980056726,
                    12.095271018573518,
                    11.09788891408485,
                    10.41934032399436,
                    11.246611183731364,
                    11.729681888983013,
                    11.324627271471671,
                    11.561459791090478,
                    11.81752795380931,
                    5.9344621666291,
                    9.886697409243967,
                    11.81238707467528,
                    10.816970356916663,
                    10.674195260958326,
                    11.471677636414594,
                    11.087497659245223,
                    10.899832594808451
                  ],
                  "z": [
                    -2.3642259534368524,
                    -2.1287587209910943,
                    -1.2638585613698456,
                    -1.1161390062237997,
                    -0.7309523737503714,
                    -2.480734674783653,
                    -1.1776802925704146,
                    -1.6230795780660872,
                    -1.616032542908946,
                    -1.8083765920246844,
                    -1.7891721933683138,
                    -0.9556555049318023,
                    -0.34372992466918806,
                    -0.8203823964701809,
                    -1.3796337176071656,
                    -1.743094261105277,
                    -1.8732638293879074,
                    -1.584666532620775,
                    -1.8656122313187438,
                    -1.2964569738010239,
                    -1.2696984129640336,
                    -1.0390204403724286,
                    -1.8898894591658522,
                    -0.8340495309544398,
                    -1.8737013504884927,
                    -1.4851770463507918,
                    -1.9701426003701972,
                    -1.5782697196044104,
                    -1.1864822188539343,
                    -1.1406574343853997,
                    -1.5947892236346148,
                    -2.310714910883575,
                    -1.9342664202150555,
                    -1.5058222442260694,
                    -2.187894925596259,
                    -0.9594378153354657,
                    -1.6472889382986757,
                    -2.1054471993913575,
                    -0.5860398227826713
                  ]
                },
                {
                  "hovertemplate": "color=person_04<br>0=%{x}<br>1=%{y}<br>2=%{z}<extra></extra>",
                  "legendgroup": "person_04",
                  "marker": {
                    "autocolorscale": true,
                    "color": "#EF553B",
                    "colorscale": [
                      [
                        0,
                        "#CCCCCC"
                      ],
                      [
                        0.2,
                        "#F3F3F3"
                      ],
                      [
                        0.4,
                        "#FBC903"
                      ],
                      [
                        0.6,
                        "#D64550"
                      ],
                      [
                        0.8,
                        "#1968AC"
                      ],
                      [
                        1,
                        "#91C499"
                      ]
                    ],
                    "size": 2,
                    "symbol": "circle"
                  },
                  "mode": "markers",
                  "name": "person_04",
                  "scene": "scene",
                  "showlegend": true,
                  "type": "scatter3d",
                  "x": [
                    -0.1527171269161527,
                    -0.4703369391221659,
                    0.015718455830534772,
                    0.019539205000266957,
                    3.113202021187698,
                    1.2802780966532779,
                    0.8507536056991556,
                    4.9935204974487,
                    3.4657018721130672,
                    0.5596233651716958,
                    -0.5632720541945934,
                    -0.45880651425682817,
                    0.5157186869955663,
                    4.405532257869777,
                    2.8090897684271248,
                    0.05640353647817342,
                    1.072372602759812,
                    0.20366880401821585,
                    1.7043131361587576,
                    1.423670657082642,
                    1.720908167432198,
                    0.870413427704917,
                    0.40372093695914507,
                    7.828347584763896,
                    1.125020281284765,
                    1.7922575216475165,
                    0.37523059313343365,
                    0.011357486303828379,
                    -0.245839001083623,
                    1.9171023290032219,
                    0.9672369891490159,
                    0.7876912723445506,
                    0.3714145186580684,
                    4.5904560127206295,
                    3.446631124014801,
                    1.1841849844108556,
                    -0.10745596921655062,
                    1.7495025582658341,
                    2.7744489870882614
                  ],
                  "y": [
                    -0.9883955409463505,
                    0.39512754840349285,
                    -2.7908544162203492,
                    -1.6603820614481528,
                    -8.247708801018128,
                    -1.8101007357675494,
                    0.44621197903257415,
                    -12.391837721114811,
                    -9.220080198191198,
                    -1.2090850642910471,
                    -1.4462743344664233,
                    -1.154354886135951,
                    -1.4097976216601407,
                    -11.630024621226317,
                    -7.59954798496463,
                    -1.7728940559028907,
                    -2.9258007011600013,
                    -1.590228109648635,
                    -5.1985751676779355,
                    -4.639544277331041,
                    -4.3931901634988995,
                    -2.421499335756324,
                    -3.052646279652908,
                    -12.195500143640327,
                    -4.576992218923325,
                    -5.185284991426565,
                    -3.570169030703509,
                    -2.1565545295910997,
                    -1.2266584731937042,
                    -5.484742428089049,
                    -2.882593868462791,
                    -3.4529472405995794,
                    -2.3508487828769216,
                    -14.853549653959925,
                    -9.102288999175647,
                    -2.0099589034553658,
                    -0.008563752930106888,
                    -4.592757617193905,
                    -9.418562902593797
                  ],
                  "z": [
                    8.003958531020244,
                    7.524329352741249,
                    8.402467573813604,
                    8.461982319111259,
                    7.430194487142689,
                    7.188987181272795,
                    7.228839114307803,
                    6.512616359497967,
                    7.635593951026068,
                    7.204452197072211,
                    8.416801322615818,
                    8.488043805022986,
                    7.517940341536155,
                    7.795438747865187,
                    7.328349632309615,
                    8.600469327510037,
                    7.15756983035667,
                    8.26322357889632,
                    7.541480161231613,
                    7.481288534790352,
                    6.915055011534097,
                    6.776406074793,
                    8.019516054084763,
                    -2.584243698038053,
                    8.140814848199211,
                    7.555753136251445,
                    8.51141006470111,
                    8.181332198893084,
                    4.03492626443555,
                    7.4520237067944475,
                    7.2112752268868325,
                    7.779092677461517,
                    7.654595805754011,
                    2.652864670330682,
                    7.589126830699662,
                    6.920161520551679,
                    6.968518602996728,
                    7.406804642734048,
                    7.820370597485411
                  ]
                },
                {
                  "hovertemplate": "color=person_01<br>0=%{x}<br>1=%{y}<br>2=%{z}<extra></extra>",
                  "legendgroup": "person_01",
                  "marker": {
                    "autocolorscale": true,
                    "color": "#00cc96",
                    "colorscale": [
                      [
                        0,
                        "#CCCCCC"
                      ],
                      [
                        0.2,
                        "#F3F3F3"
                      ],
                      [
                        0.4,
                        "#FBC903"
                      ],
                      [
                        0.6,
                        "#D64550"
                      ],
                      [
                        0.8,
                        "#1968AC"
                      ],
                      [
                        1,
                        "#91C499"
                      ]
                    ],
                    "size": 2,
                    "symbol": "circle"
                  },
                  "mode": "markers",
                  "name": "person_01",
                  "scene": "scene",
                  "showlegend": true,
                  "type": "scatter3d",
                  "x": [
                    -1.0812680644298196,
                    -2.1005937141412843,
                    -2.2217102372173727,
                    -2.0673707177162166,
                    -2.221615903456895,
                    -2.1926440842814308,
                    -1.6034281539293453,
                    -1.7545013499532405,
                    0.019825592748715003,
                    -3.1363497153325732,
                    -3.0679211921968843,
                    -2.3629141784110272,
                    -2.525155684892461,
                    -2.1069028158532057,
                    -1.7100013889185615,
                    -2.8323556660467135,
                    -2.0681456260201685,
                    -2.887918290904039,
                    -2.6973532347567213,
                    -1.6178047898482693,
                    -2.8768573579755516,
                    -2.8262176840554094,
                    -3.106233770414305,
                    -3.0657968668238613,
                    -0.8325881388842902,
                    -3.2408161026747386,
                    -1.490935101860618,
                    -2.124711711936499,
                    -0.846640238245316,
                    -3.4119458293617573,
                    -0.28376459654432384,
                    -2.050643596576249,
                    0.2796086864403651,
                    -2.2632924119477593,
                    -2.0559123176182164,
                    -2.1357318884200573,
                    -2.537492626322072,
                    -2.0427477770192786,
                    -1.5968002537573591,
                    -2.0305786001227575,
                    -2.6465964686016057
                  ],
                  "y": [
                    1.0587591908005947,
                    4.426699697302251,
                    4.096850581543315,
                    5.069411144878762,
                    4.620956676035002,
                    4.512730914127005,
                    4.047438348595145,
                    5.533168509808418,
                    2.2643333545452418,
                    7.290799127991984,
                    5.958696593164763,
                    3.679792884354172,
                    4.608853072597398,
                    5.2894939416204485,
                    3.0409928009436102,
                    6.7804933875876525,
                    4.345496888726515,
                    6.457427243330207,
                    4.927472767271529,
                    3.522423806808965,
                    4.294401886606595,
                    6.061818998088324,
                    6.672304628341281,
                    5.527119184150891,
                    1.4180240689853818,
                    5.684269927382273,
                    2.462039041391535,
                    4.89676860676099,
                    1.8626537082568495,
                    7.106773320927125,
                    2.349930505522167,
                    5.026653560600414,
                    -0.06301724036191558,
                    2.6390804828107073,
                    6.143586589125888,
                    4.383058327195005,
                    3.989711009129284,
                    5.087117149764081,
                    4.159940587951,
                    4.704492568410336,
                    4.774329200340048
                  ],
                  "z": [
                    -4.446561482992626,
                    -4.825874514507722,
                    -4.592321825826206,
                    -5.38025981348267,
                    -4.788174958221142,
                    -5.047436511657242,
                    -5.348907757891206,
                    -5.316593189976916,
                    -4.580847294133836,
                    -4.22730508999092,
                    -3.7225110090906224,
                    -5.152886968235995,
                    -4.121360553410648,
                    -5.511148482262588,
                    -5.4480020790512835,
                    -3.852433395516613,
                    -5.019551790871333,
                    -3.9433044342569463,
                    -3.6984355891740623,
                    -5.436582577444341,
                    -3.710331438575132,
                    -3.9462864125294175,
                    -4.204642205585215,
                    -3.7513201467881716,
                    -5.16432296838617,
                    -3.8576803135179167,
                    -4.447240108065749,
                    -5.533298172827553,
                    -5.179487926368402,
                    -4.5333411374164045,
                    -4.769282992249857,
                    -5.337063657197141,
                    -4.856484488803828,
                    -4.063341699467801,
                    -5.358626685366678,
                    -5.10748260904923,
                    -4.164371904576271,
                    -5.66171007962576,
                    -5.487670694588091,
                    -5.651917546584257,
                    -3.889358569680816
                  ]
                },
                {
                  "hovertemplate": "color=person_05<br>0=%{x}<br>1=%{y}<br>2=%{z}<extra></extra>",
                  "legendgroup": "person_05",
                  "marker": {
                    "autocolorscale": true,
                    "color": "#ab63fa",
                    "colorscale": [
                      [
                        0,
                        "#CCCCCC"
                      ],
                      [
                        0.2,
                        "#F3F3F3"
                      ],
                      [
                        0.4,
                        "#FBC903"
                      ],
                      [
                        0.6,
                        "#D64550"
                      ],
                      [
                        0.8,
                        "#1968AC"
                      ],
                      [
                        1,
                        "#91C499"
                      ]
                    ],
                    "size": 2,
                    "symbol": "circle"
                  },
                  "mode": "markers",
                  "name": "person_05",
                  "scene": "scene",
                  "showlegend": true,
                  "type": "scatter3d",
                  "x": [
                    -2.822558920452102,
                    -3.821456969871641,
                    -3.1007582862336953,
                    -4.409223202608429,
                    -5.135908501349819,
                    -4.138587181509381,
                    -2.32353531728265,
                    3.6108035064978257,
                    -3.347834709382213,
                    -3.702169279440501,
                    -4.015249337119343,
                    -3.591999554980049,
                    -4.15756707853676,
                    -4.017064269510797,
                    -3.317980669893789,
                    -3.2539150073050127,
                    -3.0420365724710634,
                    -3.264639672301815,
                    -3.274812677104932,
                    -2.977748470177045,
                    -5.2218487886721014,
                    -3.9400414878179983,
                    -3.8548645589841777,
                    -1.780705922309447,
                    -3.3764596241869773,
                    -3.4083399874787372,
                    -3.6958908448346297,
                    -3.6478726720954553,
                    -5.240259378190936,
                    -3.4875307430378797,
                    -3.3230246398152063,
                    -5.666243605768088,
                    -3.644510042131288,
                    -4.105008724384305
                  ],
                  "y": [
                    -8.39202029312938,
                    -5.47979896724598,
                    -8.237756886130121,
                    -8.099542878240605,
                    -7.662564379673581,
                    -6.15029670331948,
                    -11.691564319527078,
                    -16.474214651692048,
                    -8.805499175121643,
                    -5.320902036950673,
                    -6.429818410052054,
                    -7.619508749180582,
                    -6.561497965622291,
                    -8.719913669434103,
                    -7.385001691674274,
                    -7.523814998518354,
                    -8.56697352069725,
                    -8.337797378454095,
                    -9.180876114236,
                    -8.991146353274548,
                    -8.590494194962256,
                    -8.314941054083269,
                    -6.610785544922322,
                    -5.114085148441192,
                    -6.931984130299578,
                    -8.527687355243101,
                    -8.688930209141104,
                    -8.462821830079886,
                    -8.179366647792573,
                    -7.511728402950995,
                    -8.740944034680076,
                    -8.809203262852503,
                    -8.101113015500628,
                    -8.245527559983998
                  ],
                  "z": [
                    -2.084606948381305,
                    -1.1535921292960272,
                    -0.8744614488836979,
                    -0.9917658003440091,
                    -1.1240154152900432,
                    -1.261141085632243,
                    -1.1954388903579414,
                    -1.321794441055243,
                    -1.0407932638934962,
                    -0.9292912644276674,
                    -1.1268789281805494,
                    -1.580511610315242,
                    -1.0200962144000005,
                    -0.8546640147842646,
                    -2.253145266693518,
                    -1.971009254693653,
                    -1.5724010743813617,
                    -1.5935506805328177,
                    -1.0125833911492625,
                    -0.7239142171714796,
                    -1.1450883239053766,
                    -0.6906812068200843,
                    -1.0676821594811736,
                    -2.3833595872933904,
                    -1.7282490433836029,
                    -1.271603952789497,
                    -0.7975634916169912,
                    -0.6497275492655967,
                    -0.13721424714122854,
                    -1.698415907535237,
                    -0.9947920582382324,
                    -1.1641187593525864,
                    -1.3305935801987794,
                    -0.6960982193732477
                  ]
                },
                {
                  "hovertemplate": "color=person_03<br>0=%{x}<br>1=%{y}<br>2=%{z}<extra></extra>",
                  "legendgroup": "person_03",
                  "marker": {
                    "autocolorscale": true,
                    "color": "#FFA15A",
                    "colorscale": [
                      [
                        0,
                        "#CCCCCC"
                      ],
                      [
                        0.2,
                        "#F3F3F3"
                      ],
                      [
                        0.4,
                        "#FBC903"
                      ],
                      [
                        0.6,
                        "#D64550"
                      ],
                      [
                        0.8,
                        "#1968AC"
                      ],
                      [
                        1,
                        "#91C499"
                      ]
                    ],
                    "size": 2,
                    "symbol": "circle"
                  },
                  "mode": "markers",
                  "name": "person_03",
                  "scene": "scene",
                  "showlegend": true,
                  "type": "scatter3d",
                  "x": [
                    16.529811798470977,
                    17.253410172187117,
                    17.011514642256465,
                    17.62359869266589,
                    17.224174137096753,
                    16.52610413773369,
                    17.575034447072905,
                    15.755478718574002,
                    16.177197956063498,
                    17.094877162017198,
                    17.65719515198332,
                    15.31835334458546,
                    16.605868671828215,
                    16.656878997051614,
                    15.13387804432919,
                    15.720389194771293,
                    17.531212048333376,
                    10.027806626068852,
                    16.75347019145725,
                    18.210941291839497,
                    16.017989263083248,
                    17.344103819351634,
                    17.837728610021344,
                    15.65005458803154,
                    16.005352657094473,
                    16.915289042015537,
                    17.297901099225,
                    18.134457653637533,
                    16.480824660077914,
                    17.318817322394345,
                    17.442069714799736,
                    16.599443220019857,
                    17.28254843326436,
                    15.778766829259009,
                    16.379691276032577,
                    16.71614455324261,
                    16.60674374697186,
                    15.455263218116253,
                    17.207397800822562
                  ],
                  "y": [
                    -3.446880305046511,
                    -5.541646501421106,
                    -4.663346139537993,
                    -6.413398573168319,
                    -5.315056180944746,
                    -4.0731337130771585,
                    -5.884814256144302,
                    -2.3510395126115116,
                    -3.6308650028936262,
                    -4.8339468774742445,
                    -4.332027328717435,
                    -1.4387679698681008,
                    -3.8256104848757406,
                    -3.968723691129611,
                    -1.4373550159139006,
                    -2.9019023192334252,
                    -5.932116547156968,
                    -14.175225473211686,
                    -3.842887861985032,
                    -4.413778020243203,
                    -0.8131774876313465,
                    -5.285040403120146,
                    -4.342335183731972,
                    -2.0717841146335747,
                    -4.488258489510398,
                    -4.7769643012998895,
                    -5.542480169069558,
                    -6.75631726473452,
                    -4.0679328649422715,
                    -1.8733995381669448,
                    -3.821115814350783,
                    -3.642115898264757,
                    -3.2559713972860767,
                    -2.3921027440526803,
                    -3.6939193915012485,
                    -3.8630367232524434,
                    -3.433078677928942,
                    -1.377762443121453,
                    -3.8983270825236254
                  ],
                  "z": [
                    -4.0635455068730755,
                    -3.679385887320527,
                    -3.839548506723265,
                    -3.818322202209222,
                    -3.7139163960671895,
                    -2.747019972311558,
                    -3.74228822880471,
                    -3.129615750896937,
                    -3.714977609390056,
                    -3.7830494967044554,
                    -4.431297357863568,
                    -3.2801615450501065,
                    -4.1726865099927934,
                    -4.3462950739081645,
                    -3.1782323149359986,
                    -2.975180883029386,
                    -3.8327479238343907,
                    0.018431548580695956,
                    -4.1551843789498,
                    -0.7583227616096515,
                    -2.6541508919953305,
                    -3.6687515182993957,
                    -4.442955686402249,
                    -3.251709572458636,
                    -1.9575903852963532,
                    -3.4414876984247256,
                    -3.709216137991093,
                    -3.85310917175038,
                    -3.83724105719949,
                    -3.002332756553736,
                    -4.399684506935429,
                    -4.166379616706951,
                    -2.13643329271909,
                    -2.7078247842687224,
                    -4.194832285325528,
                    -3.8778855792044364,
                    -4.018184767224011,
                    -3.0854285599352402,
                    -2.410966591463696
                  ]
                },
                {
                  "hovertemplate": "color=person_02<br>0=%{x}<br>1=%{y}<br>2=%{z}<extra></extra>",
                  "legendgroup": "person_02",
                  "marker": {
                    "autocolorscale": true,
                    "color": "#19d3f3",
                    "colorscale": [
                      [
                        0,
                        "#CCCCCC"
                      ],
                      [
                        0.2,
                        "#F3F3F3"
                      ],
                      [
                        0.4,
                        "#FBC903"
                      ],
                      [
                        0.6,
                        "#D64550"
                      ],
                      [
                        0.8,
                        "#1968AC"
                      ],
                      [
                        1,
                        "#91C499"
                      ]
                    ],
                    "size": 2,
                    "symbol": "circle"
                  },
                  "mode": "markers",
                  "name": "person_02",
                  "scene": "scene",
                  "showlegend": true,
                  "type": "scatter3d",
                  "x": [
                    -0.5440645981173802,
                    -0.8452554338818601,
                    -3.0051675959891284,
                    -2.132521337597035,
                    -1.0347792328699565,
                    -0.9488683060174141,
                    -0.2415106975250918,
                    -1.5469150693968716,
                    -2.5981561938236184,
                    -1.0830800722895868,
                    -3.4719282125931574,
                    -3.167187823497484,
                    -3.175760285154551,
                    -3.526138312141526,
                    -2.468392299358565,
                    -1.7725686162357404,
                    -3.3937568430999248,
                    9.887827783771842,
                    -2.4047122128761065,
                    -2.4623205317283965,
                    -2.8476970371154056,
                    -5.44766743946884,
                    -1.2941676614340167,
                    -1.1433894353318168,
                    -0.2601552055521823,
                    -1.8507960141554065,
                    -1.4010719205822761,
                    -1.478741157784731,
                    -1.287073413890793,
                    2.389763121872976,
                    -3.587962022291139,
                    -3.266004255484339,
                    -3.3897181985957348,
                    1.6621494353150825,
                    -2.6150605326458174,
                    1.1199182184361014,
                    0.8902231356698156,
                    -1.1631486395204074,
                    -1.9311198282170938,
                    -3.5533917762984704
                  ],
                  "y": [
                    -9.759422035095351,
                    -9.061050572586865,
                    -6.23180927528429,
                    -6.800187270270023,
                    -8.629771597005576,
                    -9.021232077420365,
                    -7.437583710476796,
                    -7.478799979038519,
                    -5.316157909009377,
                    -5.957136533752804,
                    -4.828345419046156,
                    -2.9493417779076587,
                    -3.220173806622752,
                    -2.8237127950590035,
                    -5.249594928688098,
                    -7.714201148301536,
                    -3.864400179591712,
                    -13.696777048980412,
                    -4.985766242500935,
                    -4.627288093579705,
                    -3.872520707302698,
                    -0.012834455318494836,
                    -7.762567247113855,
                    -8.67395434646527,
                    -9.32021150481136,
                    -7.353851933800684,
                    -6.525822635668464,
                    -5.660913287938755,
                    -6.7221150413737,
                    -17.6227290684975,
                    -4.721082883158356,
                    -2.7292435652235474,
                    -3.8681759570771086,
                    -12.477902110591135,
                    -5.51120848246022,
                    -12.261303270038885,
                    -26.36689769040182,
                    -8.68769906275676,
                    -5.665710384960647,
                    -3.8649594691837343
                  ],
                  "z": [
                    -6.941565740870212,
                    -6.9396602010210895,
                    -5.796690988990436,
                    -7.152714353209749,
                    -6.732905924037954,
                    -6.802511172350451,
                    -5.050496278510948,
                    -5.8270988104087476,
                    -6.349368810755067,
                    -5.484403831129557,
                    -5.883959691459512,
                    -6.617013741376683,
                    -6.764192323037616,
                    -6.765002686675597,
                    -6.73906613327454,
                    -6.972071360250493,
                    -6.40594794803383,
                    1.7919125225269572,
                    -6.553399768198124,
                    -7.69572177227489,
                    -6.933683881310167,
                    -9.200542908369787,
                    -6.942719594910801,
                    -6.224341262202829,
                    -5.627510769714062,
                    -5.898284127322153,
                    -7.433937026559284,
                    -7.741450015275513,
                    -6.032714019549072,
                    -6.336169729273431,
                    -7.676184098471577,
                    -6.743303518523283,
                    -6.313487566679655,
                    -7.355359019964902,
                    -5.398952049823873,
                    -7.157134398874159,
                    -2.7359072468031957,
                    -6.396062202359076,
                    -7.652747094760058,
                    -6.223248145510235
                  ]
                }
              ],
              "layout": {
                "legend": {
                  "title": {
                    "text": "color"
                  },
                  "tracegroupgap": 0
                },
                "margin": {
                  "t": 60
                },
                "scene": {
                  "domain": {
                    "x": [
                      0,
                      1
                    ],
                    "y": [
                      0,
                      1
                    ]
                  },
                  "xaxis": {
                    "title": {
                      "text": "0"
                    }
                  },
                  "yaxis": {
                    "title": {
                      "text": "1"
                    }
                  },
                  "zaxis": {
                    "title": {
                      "text": "2"
                    }
                  }
                },
                "template": {
                  "data": {
                    "bar": [
                      {
                        "error_x": {
                          "color": "#2a3f5f"
                        },
                        "error_y": {
                          "color": "#2a3f5f"
                        },
                        "marker": {
                          "line": {
                            "color": "#E5ECF6",
                            "width": 0.5
                          },
                          "pattern": {
                            "fillmode": "overlay",
                            "size": 10,
                            "solidity": 0.2
                          }
                        },
                        "type": "bar"
                      }
                    ],
                    "barpolar": [
                      {
                        "marker": {
                          "line": {
                            "color": "#E5ECF6",
                            "width": 0.5
                          },
                          "pattern": {
                            "fillmode": "overlay",
                            "size": 10,
                            "solidity": 0.2
                          }
                        },
                        "type": "barpolar"
                      }
                    ],
                    "carpet": [
                      {
                        "aaxis": {
                          "endlinecolor": "#2a3f5f",
                          "gridcolor": "white",
                          "linecolor": "white",
                          "minorgridcolor": "white",
                          "startlinecolor": "#2a3f5f"
                        },
                        "baxis": {
                          "endlinecolor": "#2a3f5f",
                          "gridcolor": "white",
                          "linecolor": "white",
                          "minorgridcolor": "white",
                          "startlinecolor": "#2a3f5f"
                        },
                        "type": "carpet"
                      }
                    ],
                    "choropleth": [
                      {
                        "colorbar": {
                          "outlinewidth": 0,
                          "ticks": ""
                        },
                        "type": "choropleth"
                      }
                    ],
                    "contour": [
                      {
                        "colorbar": {
                          "outlinewidth": 0,
                          "ticks": ""
                        },
                        "colorscale": [
                          [
                            0,
                            "#0d0887"
                          ],
                          [
                            0.1111111111111111,
                            "#46039f"
                          ],
                          [
                            0.2222222222222222,
                            "#7201a8"
                          ],
                          [
                            0.3333333333333333,
                            "#9c179e"
                          ],
                          [
                            0.4444444444444444,
                            "#bd3786"
                          ],
                          [
                            0.5555555555555556,
                            "#d8576b"
                          ],
                          [
                            0.6666666666666666,
                            "#ed7953"
                          ],
                          [
                            0.7777777777777778,
                            "#fb9f3a"
                          ],
                          [
                            0.8888888888888888,
                            "#fdca26"
                          ],
                          [
                            1,
                            "#f0f921"
                          ]
                        ],
                        "type": "contour"
                      }
                    ],
                    "contourcarpet": [
                      {
                        "colorbar": {
                          "outlinewidth": 0,
                          "ticks": ""
                        },
                        "type": "contourcarpet"
                      }
                    ],
                    "heatmap": [
                      {
                        "colorbar": {
                          "outlinewidth": 0,
                          "ticks": ""
                        },
                        "colorscale": [
                          [
                            0,
                            "#0d0887"
                          ],
                          [
                            0.1111111111111111,
                            "#46039f"
                          ],
                          [
                            0.2222222222222222,
                            "#7201a8"
                          ],
                          [
                            0.3333333333333333,
                            "#9c179e"
                          ],
                          [
                            0.4444444444444444,
                            "#bd3786"
                          ],
                          [
                            0.5555555555555556,
                            "#d8576b"
                          ],
                          [
                            0.6666666666666666,
                            "#ed7953"
                          ],
                          [
                            0.7777777777777778,
                            "#fb9f3a"
                          ],
                          [
                            0.8888888888888888,
                            "#fdca26"
                          ],
                          [
                            1,
                            "#f0f921"
                          ]
                        ],
                        "type": "heatmap"
                      }
                    ],
                    "heatmapgl": [
                      {
                        "colorbar": {
                          "outlinewidth": 0,
                          "ticks": ""
                        },
                        "colorscale": [
                          [
                            0,
                            "#0d0887"
                          ],
                          [
                            0.1111111111111111,
                            "#46039f"
                          ],
                          [
                            0.2222222222222222,
                            "#7201a8"
                          ],
                          [
                            0.3333333333333333,
                            "#9c179e"
                          ],
                          [
                            0.4444444444444444,
                            "#bd3786"
                          ],
                          [
                            0.5555555555555556,
                            "#d8576b"
                          ],
                          [
                            0.6666666666666666,
                            "#ed7953"
                          ],
                          [
                            0.7777777777777778,
                            "#fb9f3a"
                          ],
                          [
                            0.8888888888888888,
                            "#fdca26"
                          ],
                          [
                            1,
                            "#f0f921"
                          ]
                        ],
                        "type": "heatmapgl"
                      }
                    ],
                    "histogram": [
                      {
                        "marker": {
                          "pattern": {
                            "fillmode": "overlay",
                            "size": 10,
                            "solidity": 0.2
                          }
                        },
                        "type": "histogram"
                      }
                    ],
                    "histogram2d": [
                      {
                        "colorbar": {
                          "outlinewidth": 0,
                          "ticks": ""
                        },
                        "colorscale": [
                          [
                            0,
                            "#0d0887"
                          ],
                          [
                            0.1111111111111111,
                            "#46039f"
                          ],
                          [
                            0.2222222222222222,
                            "#7201a8"
                          ],
                          [
                            0.3333333333333333,
                            "#9c179e"
                          ],
                          [
                            0.4444444444444444,
                            "#bd3786"
                          ],
                          [
                            0.5555555555555556,
                            "#d8576b"
                          ],
                          [
                            0.6666666666666666,
                            "#ed7953"
                          ],
                          [
                            0.7777777777777778,
                            "#fb9f3a"
                          ],
                          [
                            0.8888888888888888,
                            "#fdca26"
                          ],
                          [
                            1,
                            "#f0f921"
                          ]
                        ],
                        "type": "histogram2d"
                      }
                    ],
                    "histogram2dcontour": [
                      {
                        "colorbar": {
                          "outlinewidth": 0,
                          "ticks": ""
                        },
                        "colorscale": [
                          [
                            0,
                            "#0d0887"
                          ],
                          [
                            0.1111111111111111,
                            "#46039f"
                          ],
                          [
                            0.2222222222222222,
                            "#7201a8"
                          ],
                          [
                            0.3333333333333333,
                            "#9c179e"
                          ],
                          [
                            0.4444444444444444,
                            "#bd3786"
                          ],
                          [
                            0.5555555555555556,
                            "#d8576b"
                          ],
                          [
                            0.6666666666666666,
                            "#ed7953"
                          ],
                          [
                            0.7777777777777778,
                            "#fb9f3a"
                          ],
                          [
                            0.8888888888888888,
                            "#fdca26"
                          ],
                          [
                            1,
                            "#f0f921"
                          ]
                        ],
                        "type": "histogram2dcontour"
                      }
                    ],
                    "mesh3d": [
                      {
                        "colorbar": {
                          "outlinewidth": 0,
                          "ticks": ""
                        },
                        "type": "mesh3d"
                      }
                    ],
                    "parcoords": [
                      {
                        "line": {
                          "colorbar": {
                            "outlinewidth": 0,
                            "ticks": ""
                          }
                        },
                        "type": "parcoords"
                      }
                    ],
                    "pie": [
                      {
                        "automargin": true,
                        "type": "pie"
                      }
                    ],
                    "scatter": [
                      {
                        "marker": {
                          "colorbar": {
                            "outlinewidth": 0,
                            "ticks": ""
                          }
                        },
                        "type": "scatter"
                      }
                    ],
                    "scatter3d": [
                      {
                        "line": {
                          "colorbar": {
                            "outlinewidth": 0,
                            "ticks": ""
                          }
                        },
                        "marker": {
                          "colorbar": {
                            "outlinewidth": 0,
                            "ticks": ""
                          }
                        },
                        "type": "scatter3d"
                      }
                    ],
                    "scattercarpet": [
                      {
                        "marker": {
                          "colorbar": {
                            "outlinewidth": 0,
                            "ticks": ""
                          }
                        },
                        "type": "scattercarpet"
                      }
                    ],
                    "scattergeo": [
                      {
                        "marker": {
                          "colorbar": {
                            "outlinewidth": 0,
                            "ticks": ""
                          }
                        },
                        "type": "scattergeo"
                      }
                    ],
                    "scattergl": [
                      {
                        "marker": {
                          "colorbar": {
                            "outlinewidth": 0,
                            "ticks": ""
                          }
                        },
                        "type": "scattergl"
                      }
                    ],
                    "scattermapbox": [
                      {
                        "marker": {
                          "colorbar": {
                            "outlinewidth": 0,
                            "ticks": ""
                          }
                        },
                        "type": "scattermapbox"
                      }
                    ],
                    "scatterpolar": [
                      {
                        "marker": {
                          "colorbar": {
                            "outlinewidth": 0,
                            "ticks": ""
                          }
                        },
                        "type": "scatterpolar"
                      }
                    ],
                    "scatterpolargl": [
                      {
                        "marker": {
                          "colorbar": {
                            "outlinewidth": 0,
                            "ticks": ""
                          }
                        },
                        "type": "scatterpolargl"
                      }
                    ],
                    "scatterternary": [
                      {
                        "marker": {
                          "colorbar": {
                            "outlinewidth": 0,
                            "ticks": ""
                          }
                        },
                        "type": "scatterternary"
                      }
                    ],
                    "surface": [
                      {
                        "colorbar": {
                          "outlinewidth": 0,
                          "ticks": ""
                        },
                        "colorscale": [
                          [
                            0,
                            "#0d0887"
                          ],
                          [
                            0.1111111111111111,
                            "#46039f"
                          ],
                          [
                            0.2222222222222222,
                            "#7201a8"
                          ],
                          [
                            0.3333333333333333,
                            "#9c179e"
                          ],
                          [
                            0.4444444444444444,
                            "#bd3786"
                          ],
                          [
                            0.5555555555555556,
                            "#d8576b"
                          ],
                          [
                            0.6666666666666666,
                            "#ed7953"
                          ],
                          [
                            0.7777777777777778,
                            "#fb9f3a"
                          ],
                          [
                            0.8888888888888888,
                            "#fdca26"
                          ],
                          [
                            1,
                            "#f0f921"
                          ]
                        ],
                        "type": "surface"
                      }
                    ],
                    "table": [
                      {
                        "cells": {
                          "fill": {
                            "color": "#EBF0F8"
                          },
                          "line": {
                            "color": "white"
                          }
                        },
                        "header": {
                          "fill": {
                            "color": "#C8D4E3"
                          },
                          "line": {
                            "color": "white"
                          }
                        },
                        "type": "table"
                      }
                    ]
                  },
                  "layout": {
                    "annotationdefaults": {
                      "arrowcolor": "#2a3f5f",
                      "arrowhead": 0,
                      "arrowwidth": 1
                    },
                    "autotypenumbers": "strict",
                    "coloraxis": {
                      "colorbar": {
                        "outlinewidth": 0,
                        "ticks": ""
                      }
                    },
                    "colorscale": {
                      "diverging": [
                        [
                          0,
                          "#8e0152"
                        ],
                        [
                          0.1,
                          "#c51b7d"
                        ],
                        [
                          0.2,
                          "#de77ae"
                        ],
                        [
                          0.3,
                          "#f1b6da"
                        ],
                        [
                          0.4,
                          "#fde0ef"
                        ],
                        [
                          0.5,
                          "#f7f7f7"
                        ],
                        [
                          0.6,
                          "#e6f5d0"
                        ],
                        [
                          0.7,
                          "#b8e186"
                        ],
                        [
                          0.8,
                          "#7fbc41"
                        ],
                        [
                          0.9,
                          "#4d9221"
                        ],
                        [
                          1,
                          "#276419"
                        ]
                      ],
                      "sequential": [
                        [
                          0,
                          "#0d0887"
                        ],
                        [
                          0.1111111111111111,
                          "#46039f"
                        ],
                        [
                          0.2222222222222222,
                          "#7201a8"
                        ],
                        [
                          0.3333333333333333,
                          "#9c179e"
                        ],
                        [
                          0.4444444444444444,
                          "#bd3786"
                        ],
                        [
                          0.5555555555555556,
                          "#d8576b"
                        ],
                        [
                          0.6666666666666666,
                          "#ed7953"
                        ],
                        [
                          0.7777777777777778,
                          "#fb9f3a"
                        ],
                        [
                          0.8888888888888888,
                          "#fdca26"
                        ],
                        [
                          1,
                          "#f0f921"
                        ]
                      ],
                      "sequentialminus": [
                        [
                          0,
                          "#0d0887"
                        ],
                        [
                          0.1111111111111111,
                          "#46039f"
                        ],
                        [
                          0.2222222222222222,
                          "#7201a8"
                        ],
                        [
                          0.3333333333333333,
                          "#9c179e"
                        ],
                        [
                          0.4444444444444444,
                          "#bd3786"
                        ],
                        [
                          0.5555555555555556,
                          "#d8576b"
                        ],
                        [
                          0.6666666666666666,
                          "#ed7953"
                        ],
                        [
                          0.7777777777777778,
                          "#fb9f3a"
                        ],
                        [
                          0.8888888888888888,
                          "#fdca26"
                        ],
                        [
                          1,
                          "#f0f921"
                        ]
                      ]
                    },
                    "colorway": [
                      "#636efa",
                      "#EF553B",
                      "#00cc96",
                      "#ab63fa",
                      "#FFA15A",
                      "#19d3f3",
                      "#FF6692",
                      "#B6E880",
                      "#FF97FF",
                      "#FECB52"
                    ],
                    "font": {
                      "color": "#2a3f5f"
                    },
                    "geo": {
                      "bgcolor": "white",
                      "lakecolor": "white",
                      "landcolor": "#E5ECF6",
                      "showlakes": true,
                      "showland": true,
                      "subunitcolor": "white"
                    },
                    "hoverlabel": {
                      "align": "left"
                    },
                    "hovermode": "closest",
                    "mapbox": {
                      "style": "light"
                    },
                    "paper_bgcolor": "white",
                    "plot_bgcolor": "#E5ECF6",
                    "polar": {
                      "angularaxis": {
                        "gridcolor": "white",
                        "linecolor": "white",
                        "ticks": ""
                      },
                      "bgcolor": "#E5ECF6",
                      "radialaxis": {
                        "gridcolor": "white",
                        "linecolor": "white",
                        "ticks": ""
                      }
                    },
                    "scene": {
                      "xaxis": {
                        "backgroundcolor": "#E5ECF6",
                        "gridcolor": "white",
                        "gridwidth": 2,
                        "linecolor": "white",
                        "showbackground": true,
                        "ticks": "",
                        "zerolinecolor": "white"
                      },
                      "yaxis": {
                        "backgroundcolor": "#E5ECF6",
                        "gridcolor": "white",
                        "gridwidth": 2,
                        "linecolor": "white",
                        "showbackground": true,
                        "ticks": "",
                        "zerolinecolor": "white"
                      },
                      "zaxis": {
                        "backgroundcolor": "#E5ECF6",
                        "gridcolor": "white",
                        "gridwidth": 2,
                        "linecolor": "white",
                        "showbackground": true,
                        "ticks": "",
                        "zerolinecolor": "white"
                      }
                    },
                    "shapedefaults": {
                      "line": {
                        "color": "#2a3f5f"
                      }
                    },
                    "ternary": {
                      "aaxis": {
                        "gridcolor": "white",
                        "linecolor": "white",
                        "ticks": ""
                      },
                      "baxis": {
                        "gridcolor": "white",
                        "linecolor": "white",
                        "ticks": ""
                      },
                      "bgcolor": "#E5ECF6",
                      "caxis": {
                        "gridcolor": "white",
                        "linecolor": "white",
                        "ticks": ""
                      }
                    },
                    "title": {
                      "x": 0.05
                    },
                    "xaxis": {
                      "automargin": true,
                      "gridcolor": "white",
                      "linecolor": "white",
                      "ticks": "",
                      "title": {
                        "standoff": 15
                      },
                      "zerolinecolor": "white",
                      "zerolinewidth": 2
                    },
                    "yaxis": {
                      "automargin": true,
                      "gridcolor": "white",
                      "linecolor": "white",
                      "ticks": "",
                      "title": {
                        "standoff": 15
                      },
                      "zerolinecolor": "white",
                      "zerolinewidth": 2
                    }
                  }
                }
              }
            }
          },
          "metadata": {},
          "output_type": "display_data"
        }
      ],
      "source": []
    },
    {
      "cell_type": "markdown",
      "metadata": {
        "id": "nR0U6oBwbhkh"
      },
      "source": [
        "## Re-identifying\n",
        "We can now try to reidentify each of samples in our test set that we kept hidden from the machine learning model. Since we learned a metric to transform the compositions so that samples from the same individual are more closeby, we can do this just by looking for the closest point in this transformed space."
      ]
    },
    {
      "cell_type": "code",
      "execution_count": 8,
      "metadata": {},
      "outputs": [],
      "source": [
        "def rank_distances_and_predict(metric_learning_model, train_data, test_data):\n",
        "    # for each data point, calculate the distances to all other points using the learned metric as distance function\n",
        "    metric_fun = metric_learning_model.get_metric()\n",
        "    test_size = test_data.shape[0]\n",
        "    train_size = train_data.shape[0]\n",
        "    distances = np.zeros((test_size, train_size))\n",
        "    for row in range(test_size):\n",
        "        datapoint_test = test_data.iloc[row, :]\n",
        "        for col in range(train_size):\n",
        "            datapoint_train = train_data.iloc[col, :]\n",
        "            d = metric_fun((datapoint_test), (datapoint_train))\n",
        "            distances[row, col] = d\n",
        "\n",
        "    \n",
        "    # from the distances, make a ranking of the closest people to each of the test set samples\n",
        "    ranking = []\n",
        "    for row in distances:\n",
        "        ranking.append(list(labels_train[np.argsort(row)]))\n",
        "\n",
        "    # re-identify people by picking the first one from this ranking for each of the test set samples\n",
        "    predicted_labels = [r[0] for r in ranking] \n",
        "\n",
        "    return predicted_labels, ranking"
      ]
    },
    {
      "cell_type": "code",
      "execution_count": 12,
      "metadata": {},
      "outputs": [],
      "source": [
        "nca_predicted_labels, nca_ranking = rank_distances_and_predict(nca_metric_learning_model, compositions_train, compositions_test)\n",
        "lmnn_predicted_labels, lmnn_ranking = rank_distances_and_predict(lmnn_metric_learning_model, compositions_train, compositions_test)"
      ]
    },
    {
      "cell_type": "markdown",
      "metadata": {
        "id": "DXdKkiXFbhki"
      },
      "source": [
        "## Checking performance\n",
        "We can then check how accurate our model is by comparing the predicted labels with the actual labels. As a baseline, we can compare it to purely random guessed, which should reach a performance of ~1/12 = 8.33%."
      ]
    },
    {
      "cell_type": "code",
      "execution_count": 13,
      "metadata": {
        "id": "jD4-a898bhki",
        "outputId": "0bed1683-552c-4389-db95-6265c37bc92b"
      },
      "outputs": [
        {
          "name": "stdout",
          "output_type": "stream",
          "text": [
            "53.85% of samples were correctly reidentified using the NCA method, \n",
            "while 60.68% of samples were correctly reidentified using the LMNN method.\n"
          ]
        }
      ],
      "source": [
        "# check the accuracy\n",
        "nca_accuracy = round(accuracy_score(labels_test, nca_predicted_labels) * 100, 2)\n",
        "print(\"{}% of samples were correctly reidentified using the NCA method, \".format(nca_accuracy))\n",
        "lmnn_accuracy = round(accuracy_score(labels_test, lmnn_predicted_labels) * 100, 2)\n",
        "print(\"while {}% of samples were correctly reidentified using the LMNN method.\".format(lmnn_accuracy))"
      ]
    },
    {
      "cell_type": "markdown",
      "metadata": {},
      "source": [
        "We can look at some more specific metrics as well:"
      ]
    },
    {
      "cell_type": "code",
      "execution_count": 14,
      "metadata": {},
      "outputs": [
        {
          "name": "stdout",
          "output_type": "stream",
          "text": [
            "==================== NCA metrics =====================\n",
            "              precision    recall  f1-score   support\n",
            "\n",
            "   person_01       0.36      0.40      0.38        10\n",
            "   person_02       0.67      0.60      0.63        10\n",
            "   person_03       0.60      0.60      0.60        10\n",
            "   person_04       0.20      0.10      0.13        10\n",
            "   person_05       0.57      0.44      0.50         9\n",
            "   person_06       0.90      0.90      0.90        10\n",
            "   person_07       0.56      0.62      0.59         8\n",
            "   person_08       0.27      0.30      0.29        10\n",
            "   person_09       0.73      0.80      0.76        10\n",
            "   person_10       0.55      0.60      0.57        10\n",
            "   person_11       0.55      0.60      0.57        10\n",
            "   person_12       0.42      0.50      0.45        10\n",
            "\n",
            "    accuracy                           0.54       117\n",
            "   macro avg       0.53      0.54      0.53       117\n",
            "weighted avg       0.53      0.54      0.53       117\n",
            "\n"
          ]
        }
      ],
      "source": [
        "print(\"==================== NCA metrics =====================\")\n",
        "print(classification_report(labels_test, nca_predicted_labels, target_names=np.unique(metadata_df[\"Person\"])))"
      ]
    },
    {
      "cell_type": "code",
      "execution_count": 15,
      "metadata": {},
      "outputs": [
        {
          "name": "stdout",
          "output_type": "stream",
          "text": [
            "======= LMNN metrics ======\n",
            "              precision    recall  f1-score   support\n",
            "\n",
            "   person_01       0.33      0.40      0.36        10\n",
            "   person_02       0.50      0.40      0.44        10\n",
            "   person_03       0.70      0.70      0.70        10\n",
            "   person_04       0.40      0.40      0.40        10\n",
            "   person_05       0.83      0.56      0.67         9\n",
            "   person_06       1.00      1.00      1.00        10\n",
            "   person_07       0.55      0.75      0.63         8\n",
            "   person_08       0.43      0.30      0.35        10\n",
            "   person_09       0.89      0.80      0.84        10\n",
            "   person_10       0.70      0.70      0.70        10\n",
            "   person_11       0.54      0.70      0.61        10\n",
            "   person_12       0.55      0.60      0.57        10\n",
            "\n",
            "    accuracy                           0.61       117\n",
            "   macro avg       0.62      0.61      0.61       117\n",
            "weighted avg       0.62      0.61      0.61       117\n",
            "\n"
          ]
        }
      ],
      "source": [
        "print(\"======= LMNN metrics ======\")\n",
        "print(classification_report(labels_test, lmnn_predicted_labels, target_names=np.unique(metadata_df[\"Person\"])))"
      ]
    },
    {
      "cell_type": "markdown",
      "metadata": {},
      "source": [
        "We can see that all 9 samples of person 6 can be classified with 100% accuracy! Others, like person 4 and 2 are more difficult though."
      ]
    },
    {
      "cell_type": "markdown",
      "metadata": {},
      "source": [
        "Let's take a look at which rank of distance the correct matches are placed:"
      ]
    },
    {
      "cell_type": "code",
      "execution_count": 16,
      "metadata": {},
      "outputs": [
        {
          "name": "stdout",
          "output_type": "stream",
          "text": [
            "For the NCA algorithm, 79.49% of samples were ranked in the top 5 closest samples, \n",
            "and the LMNN algorithm, 80.34% of samples were ranked in the top 5 closest samples.\n"
          ]
        }
      ],
      "source": [
        "# find the ranks (in distance) of the correct matches\n",
        "nca_rank_of_match = []\n",
        "lmnn_rank_of_match = []\n",
        "for nca_datapoint_test, lmnn_datapoint_test, true_label in zip(nca_ranking, lmnn_ranking, labels_test):\n",
        "    nca_rank_of_match.append(nca_datapoint_test.index(true_label))\n",
        "    lmnn_rank_of_match.append(lmnn_datapoint_test.index(true_label))\n",
        "\n",
        "nca_below_5 = round(sum([1 for rank in nca_rank_of_match if rank < 5])/len(nca_rank_of_match) * 100, 2)\n",
        "lmnn_below_5 = round(sum([1 for rank in lmnn_rank_of_match if rank < 5])/len(lmnn_rank_of_match) * 100, 2)\n",
        "print(\"For the NCA algorithm, {}% of samples were ranked in the top 5 closest samples, \".format(nca_below_5))\n",
        "print(\"and the LMNN algorithm, {}% of samples were ranked in the top 5 closest samples.\".format(lmnn_below_5))"
      ]
    },
    {
      "cell_type": "markdown",
      "metadata": {},
      "source": [
        "## Optimizing\n",
        "Given that the LMNN algorithm performs so well, we can try to tweak it to perform even better. We can do that by playing around with the parameters of the model, a process called *tuning the hyperparameters*. We initially called our model as `LMNN(k = 10, learn_rate=1e-6, random_state=42)`, but there are more possible hyperparameters:\n",
        "- `init`: the type of initialization of the linear transformation. Possible options are 'auto', 'pca', 'identity', 'random'.\n",
        "- `k`: the number of nearest neighbors from the same class that the algorithm tries to keep close. This will of course depend on how many datapoints we have from any given class (a class referring here to any particular person).\n",
        "- `max_iter`: maximum number of iterations of the optimization procedure.\n",
        "- `learn_rate`: learning rate of the optimization procedure.\n",
        "- `convergence_tol`: tolerance of the optimization procedure. If the objective value varies less than `tol`, the algorithm is considered as converged is stopped.\n",
        "- `regularization`: relative weight between pull and push terms, with 0.5 meaning equal weight.\n",
        "- `n_components`: the dimensionality of learned space (*e.g.*, we had set this to 3 for the 3D visualization).\n",
        "\n",
        "By doing some more complicated searching for good values of each hyperparameter (that will not be included here), we come to the following model:\n",
        "```\n",
        "lmnn_metric_learning_model_2 = LMNN(init='auto', \n",
        "                                    k = 10, \n",
        "                                    max_iter = 500,\n",
        "                                    learn_rate = 1e-7,\n",
        "                                    convergence_tol = 0.01,\n",
        "                                    regularization = 1.0,\n",
        "                                    n_components = 1000, \n",
        "                                    random_state = 42)\n",
        "lmnn_metric_learning_model_2.fit(compositions_train, labels_train)\n",
        "```\n",
        "As this takes quite some time to train, I have exported and attached an already trained version of the model for you, which you can load in with the following block:"
      ]
    },
    {
      "cell_type": "code",
      "execution_count": 9,
      "metadata": {},
      "outputs": [],
      "source": [
        "lmnn_metric_learning_model_2 = joblib.load('LMNN_trained.model')"
      ]
    },
    {
      "cell_type": "code",
      "execution_count": 10,
      "metadata": {},
      "outputs": [],
      "source": [
        "predictions, ranking = rank_distances_and_predict(lmnn_metric_learning_model_2, compositions_train, compositions_test)"
      ]
    },
    {
      "cell_type": "code",
      "execution_count": 11,
      "metadata": {},
      "outputs": [
        {
          "name": "stdout",
          "output_type": "stream",
          "text": [
            "======= model metrics ======\n",
            "              precision    recall  f1-score   support\n",
            "\n",
            "   person_01       0.67      0.60      0.63        10\n",
            "   person_02       0.42      0.50      0.45        10\n",
            "   person_03       0.88      0.70      0.78        10\n",
            "   person_04       0.86      0.60      0.71        10\n",
            "   person_05       0.83      0.56      0.67         9\n",
            "   person_06       1.00      1.00      1.00        10\n",
            "   person_07       0.75      0.75      0.75         8\n",
            "   person_08       0.89      0.80      0.84        10\n",
            "   person_09       0.69      0.90      0.78        10\n",
            "   person_10       0.77      1.00      0.87        10\n",
            "   person_11       0.64      0.70      0.67        10\n",
            "   person_12       0.91      1.00      0.95        10\n",
            "\n",
            "    accuracy                           0.76       117\n",
            "   macro avg       0.77      0.76      0.76       117\n",
            "weighted avg       0.77      0.76      0.76       117\n",
            "\n"
          ]
        }
      ],
      "source": [
        "print(\"======= model metrics ======\")\n",
        "print(classification_report(labels_test, predictions, target_names=np.unique(metadata_df[\"Person\"])))"
      ]
    },
    {
      "cell_type": "markdown",
      "metadata": {},
      "source": [
        "We can save the trained model to file that we can quickly load in again later. Should this not be done already, you can do this using the following command: `joblib.dump(lmnn_metric_learning_model_2, 'LMNN_trained.model')`"
      ]
    },
    {
      "cell_type": "markdown",
      "metadata": {},
      "source": [
        "## Interpreting\n",
        "As it seems definite that our algorithm has grabbed onto true signal -*as opposed to just modelling noise*- we can take a deeper look at the metric it has learned to see what the most important species are."
      ]
    },
    {
      "cell_type": "code",
      "execution_count": 20,
      "metadata": {},
      "outputs": [
        {
          "data": {
            "text/plain": [
              "<AxesSubplot:ylabel='Count'>"
            ]
          },
          "execution_count": 20,
          "metadata": {},
          "output_type": "execute_result"
        },
        {
          "data": {
            "image/png": "[encoded data removed]",
            "text/plain": [
              "<Figure size 432x288 with 1 Axes>"
            ]
          },
          "metadata": {
            "needs_background": "light"
          },
          "output_type": "display_data"
        }
      ],
      "source": [
        "# take a look at the projection matrix the algorithm has learned (the matrix it uses to transform the original datapoints into a space where we can more easily reidentify people)\n",
        "projection_matrix = lmnn_metric_learning_model_2.get_mahalanobis_matrix()\n",
        "sb.histplot(np.diagonal(projection_matrix), bins=50)"
      ]
    },
    {
      "cell_type": "markdown",
      "metadata": {},
      "source": [
        "It seems that quite a lot of the species get scaled to zero, will about a thousand (the number of components/dimensions in our learned space) have an importance of ~1. While interesting in their own right, we'll discard the species whose influence get scaled down a lot and only look at the top 25 species."
      ]
    },
    {
      "cell_type": "code",
      "execution_count": 21,
      "metadata": {},
      "outputs": [],
      "source": [
        "interesting_indexes = np.argpartition(np.diagonal(projection_matrix), int(len(projection_matrix)-25))[int(len(projection_matrix)-25):]\n",
        "interesting_species = {list(compositions_df.columns)[idx]:metric for (idx, metric) in enumerate(np.diagonal(projection_matrix)) if idx in interesting_indexes}"
      ]
    },
    {
      "cell_type": "code",
      "execution_count": 22,
      "metadata": {},
      "outputs": [
        {
          "data": {
            "text/plain": [
              "{'Ignicoccus_hospitalis': 0.9999999999806163,\n",
              " 'Staphylothermus_marinus': 0.9999999999997997,\n",
              " 'Hyperthermus_butylicus': 0.9999999999764086,\n",
              " 'Metallosphaera_sedula': 0.999999999970309,\n",
              " 'Sulfolobus_acidocaldarius': 0.9999999999274581,\n",
              " 'Sulfolobus_solfataricus': 0.999999999947687,\n",
              " 'Sulfolobus_tokodaii': 0.9999999999252726,\n",
              " 'Pyrobaculum_arsenaticum': 0.9999999998164929,\n",
              " 'Pyrobaculum_islandicum': 0.9999999999883711,\n",
              " 'Methanocaldococcus_fervens': 0.9999999999803638,\n",
              " 'Methanocaldococcus_jannaschii': 0.9999999998544228,\n",
              " 'Methanococcoides_burtonii': 0.9999999998550924,\n",
              " 'Pyrococcus_furiosus': 0.999999999939742,\n",
              " 'Pyrococcus_horikoshii': 0.9999999998345721,\n",
              " 'Thermococcus_sibiricus': 0.9999999998231053,\n",
              " 'Picrophilus_torridus': 0.9999999999497667,\n",
              " 'Thermoplasma_volcanium': 0.9999999999042922,\n",
              " 'Chlamydia_muridarum': 1.0,\n",
              " 'Chlamydophila_abortus': 0.9999999998792903,\n",
              " 'Fibrobacter_succinogenes': 0.9999999999826702,\n",
              " 'Ehrlichia_ruminantium': 0.9999999998193633,\n",
              " 'Rickettsia_heilongjiangensis': 0.9999999999752723,\n",
              " 'Rickettsia_parkeri': 0.9999999998273004,\n",
              " 'Rickettsia_philipii': 0.999999999959824,\n",
              " 'Rickettsia_rhipicephali': 0.9999999999778175}"
            ]
          },
          "execution_count": 22,
          "metadata": {},
          "output_type": "execute_result"
        }
      ],
      "source": [
        "interesting_species"
      ]
    },
    {
      "cell_type": "code",
      "execution_count": null,
      "metadata": {},
      "outputs": [],
      "source": []
    }
  ],
  "metadata": {
    "colab": {
      "name": "reidentification.ipynb",
      "provenance": []
    },
    "interpreter": {
      "hash": "9138dd3b5dd3a9c3018950ec46ef5a1b468aea9e02e04ebc3543724345a42b04"
    },
    "kernelspec": {
      "display_name": "Python 3.9.7 64-bit ('cmet-laundry': conda)",
      "language": "python",
      "name": "python3"
    },
    "language_info": {
      "codemirror_mode": {
        "name": "ipython",
        "version": 3
      },
      "file_extension": ".py",
      "mimetype": "text/x-python",
      "name": "python",
      "nbconvert_exporter": "python",
      "pygments_lexer": "ipython3",
      "version": "3.9.10"
    },
    "orig_nbformat": 4
  },
  "nbformat": 4,
  "nbformat_minor": 0
}
